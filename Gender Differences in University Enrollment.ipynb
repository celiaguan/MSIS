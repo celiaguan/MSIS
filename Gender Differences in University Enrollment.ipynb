{
 "cells": [
  {
   "cell_type": "markdown",
   "metadata": {
    "ExecuteTime": {
     "end_time": "2018-01-23T04:31:51.255588Z",
     "start_time": "2018-01-23T04:31:51.252836Z"
    }
   },
   "source": [
    "# Gender Differences in University Enrollment"
   ]
  },
  {
   "cell_type": "markdown",
   "metadata": {},
   "source": [
    "The objective of this homework is to practice visualizing data. To successfully complete this homework, you may use any resources available to you. \n",
    "\n",
    "Get the `universities.csv` data. This is data from the [National Center for Education Statistics](https://nces.ed.gov/ipeds/datacenter/DataFiles.aspx). Develop **three** plots:\n",
    "1. A boxplot of the average number of total enrollment for the states in the U.S. West\n",
    "    * The States in the U.S. West are\n",
    "        * Alaska\n",
    "        * Arizona\n",
    "        * California\n",
    "        * Colorado\n",
    "        * Hawaii\n",
    "        * Idaho\n",
    "        * Montana\n",
    "        * Nevada\n",
    "        * New Mexico\n",
    "        * Oregon\n",
    "        * Utah\n",
    "        * Washington\n",
    "        * Wyoming (see prepared list `uswest`)\n",
    "    * Order the plot based on the number of institutions in the state\n",
    "2. A boxplot of the average number of enrollment per gender category (hue) and state in the U.S. West\n",
    "    * Please notice that enrollment numbers for men and women are in two separate columns.\n",
    "    * Hue requires one column, which means you have to 'melt' the dataset ([Link](https://pandas.pydata.org/pandas-docs/stable/generated/pandas.melt.html)).\n",
    "    * The results should be a dataframe with two rows (one for men, one for women) for each university\n",
    "3. A ordered barplot of the ratio of admissions for men and women for universities in the Bay Area\n",
    "    * We assume that the Bay Area is characterized with zip codes that start with `950` and `94`\n",
    "    * Focus on institutions with more than 1,000 enrollments.\n",
    "    * Develop the ratio of admissions for women and for men. Standardize this ratio on the mean. \n",
    "4. Interpret you plots in terms of gender differences. \n",
    "\n",
    "Hints:\n",
    "* Make sure your plots are nicely formatted (including axes label).\n",
    "* Explain what you are doing.\n",
    "* Use references."
   ]
  },
  {
   "cell_type": "code",
   "execution_count": 107,
   "metadata": {
    "ExecuteTime": {
     "end_time": "2018-02-13T17:45:19.822310Z",
     "start_time": "2018-02-13T17:45:19.816703Z"
    },
    "collapsed": true
   },
   "outputs": [],
   "source": [
    "from IPython.core.interactiveshell import InteractiveShell\n",
    "InteractiveShell.ast_node_interactivity = \"all\""
   ]
  },
  {
   "cell_type": "code",
   "execution_count": 108,
   "metadata": {
    "ExecuteTime": {
     "end_time": "2018-02-13T17:45:20.792374Z",
     "start_time": "2018-02-13T17:45:20.557515Z"
    },
    "collapsed": true
   },
   "outputs": [],
   "source": [
    "import numpy as np\n",
    "import pandas as pd\n",
    "import warnings\n",
    "warnings.filterwarnings('ignore')"
   ]
  },
  {
   "cell_type": "code",
   "execution_count": 109,
   "metadata": {
    "ExecuteTime": {
     "end_time": "2018-02-13T17:45:23.621448Z",
     "start_time": "2018-02-13T17:45:23.424111Z"
    },
    "collapsed": true
   },
   "outputs": [],
   "source": [
    "c = students = pd.read_csv('https://raw.githubusercontent.com/mschermann/msis2802winter2018homework/master/\\\n",
    "universities.csv')"
   ]
  },
  {
   "cell_type": "code",
   "execution_count": 110,
   "metadata": {
    "ExecuteTime": {
     "end_time": "2018-02-13T17:45:25.590732Z",
     "start_time": "2018-02-13T17:45:25.149151Z"
    },
    "collapsed": true
   },
   "outputs": [],
   "source": [
    "import seaborn as sn\n",
    "%matplotlib inline"
   ]
  },
  {
   "cell_type": "code",
   "execution_count": 111,
   "metadata": {
    "ExecuteTime": {
     "end_time": "2018-02-13T17:46:02.458031Z",
     "start_time": "2018-02-13T17:46:02.452375Z"
    },
    "collapsed": true
   },
   "outputs": [],
   "source": [
    "uswest = ['AK','AZ','CA', 'CO', 'HI', 'ID', 'MT', 'NV', 'NM', 'OR', 'UT', 'WA', 'WY']"
   ]
  },
  {
   "cell_type": "code",
   "execution_count": 112,
   "metadata": {},
   "outputs": [
    {
     "data": {
      "text/plain": [
       "UNITID       int64\n",
       "INSTNM      object\n",
       "ZIP         object\n",
       "STABBR      object\n",
       "ENRLT      float64\n",
       "ENRLM      float64\n",
       "ENRLW      float64\n",
       "ADMSSNW    float64\n",
       "ADMSSNM    float64\n",
       "dtype: object"
      ]
     },
     "execution_count": 112,
     "metadata": {},
     "output_type": "execute_result"
    }
   ],
   "source": [
    "# make sure each variables have the right data type\n",
    "c.dtypes"
   ]
  },
  {
   "cell_type": "code",
   "execution_count": 154,
   "metadata": {},
   "outputs": [
    {
     "data": {
      "text/html": [
       "<div>\n",
       "<style>\n",
       "    .dataframe thead tr:only-child th {\n",
       "        text-align: right;\n",
       "    }\n",
       "\n",
       "    .dataframe thead th {\n",
       "        text-align: left;\n",
       "    }\n",
       "\n",
       "    .dataframe tbody tr th {\n",
       "        vertical-align: top;\n",
       "    }\n",
       "</style>\n",
       "<table border=\"1\" class=\"dataframe\">\n",
       "  <thead>\n",
       "    <tr style=\"text-align: right;\">\n",
       "      <th></th>\n",
       "      <th>UNITID</th>\n",
       "      <th>INSTNM</th>\n",
       "      <th>ZIP</th>\n",
       "      <th>States</th>\n",
       "      <th>Total Enrollment</th>\n",
       "      <th>ENRLM</th>\n",
       "      <th>ENRLW</th>\n",
       "      <th>ADMSSNW</th>\n",
       "      <th>ADMSSNM</th>\n",
       "    </tr>\n",
       "  </thead>\n",
       "  <tbody>\n",
       "    <tr>\n",
       "      <th>62</th>\n",
       "      <td>102553</td>\n",
       "      <td>University of Alaska Anchorage</td>\n",
       "      <td>99508</td>\n",
       "      <td>AK</td>\n",
       "      <td>1744.0</td>\n",
       "      <td>776.0</td>\n",
       "      <td>968.0</td>\n",
       "      <td>1738.0</td>\n",
       "      <td>1266.0</td>\n",
       "    </tr>\n",
       "    <tr>\n",
       "      <th>63</th>\n",
       "      <td>102580</td>\n",
       "      <td>Alaska Bible College</td>\n",
       "      <td>99645</td>\n",
       "      <td>AK</td>\n",
       "      <td>NaN</td>\n",
       "      <td>NaN</td>\n",
       "      <td>NaN</td>\n",
       "      <td>NaN</td>\n",
       "      <td>NaN</td>\n",
       "    </tr>\n",
       "    <tr>\n",
       "      <th>64</th>\n",
       "      <td>102614</td>\n",
       "      <td>University of Alaska Fairbanks</td>\n",
       "      <td>99775-7500</td>\n",
       "      <td>AK</td>\n",
       "      <td>775.0</td>\n",
       "      <td>392.0</td>\n",
       "      <td>383.0</td>\n",
       "      <td>587.0</td>\n",
       "      <td>557.0</td>\n",
       "    </tr>\n",
       "    <tr>\n",
       "      <th>65</th>\n",
       "      <td>102632</td>\n",
       "      <td>University of Alaska Southeast</td>\n",
       "      <td>99801-8697</td>\n",
       "      <td>AK</td>\n",
       "      <td>162.0</td>\n",
       "      <td>59.0</td>\n",
       "      <td>103.0</td>\n",
       "      <td>115.0</td>\n",
       "      <td>73.0</td>\n",
       "    </tr>\n",
       "    <tr>\n",
       "      <th>66</th>\n",
       "      <td>102669</td>\n",
       "      <td>Alaska Pacific University</td>\n",
       "      <td>99508</td>\n",
       "      <td>AK</td>\n",
       "      <td>41.0</td>\n",
       "      <td>15.0</td>\n",
       "      <td>26.0</td>\n",
       "      <td>172.0</td>\n",
       "      <td>89.0</td>\n",
       "    </tr>\n",
       "  </tbody>\n",
       "</table>\n",
       "</div>"
      ],
      "text/plain": [
       "    UNITID                          INSTNM         ZIP States  \\\n",
       "62  102553  University of Alaska Anchorage       99508     AK   \n",
       "63  102580            Alaska Bible College       99645     AK   \n",
       "64  102614  University of Alaska Fairbanks  99775-7500     AK   \n",
       "65  102632  University of Alaska Southeast  99801-8697     AK   \n",
       "66  102669       Alaska Pacific University       99508     AK   \n",
       "\n",
       "    Total Enrollment  ENRLM  ENRLW  ADMSSNW  ADMSSNM  \n",
       "62            1744.0  776.0  968.0   1738.0   1266.0  \n",
       "63               NaN    NaN    NaN      NaN      NaN  \n",
       "64             775.0  392.0  383.0    587.0    557.0  \n",
       "65             162.0   59.0  103.0    115.0     73.0  \n",
       "66              41.0   15.0   26.0    172.0     89.0  "
      ]
     },
     "execution_count": 154,
     "metadata": {},
     "output_type": "execute_result"
    }
   ],
   "source": [
    "# filter out 10 west states\n",
    "west = c[c['STABBR'].isin(uswest)]\n",
    "# rename the axle columns\n",
    "west = west.rename(columns={\"STABBR\":\"States\",\"ENRLT\":\"Total Enrollment\"})\n",
    "west.head()"
   ]
  },
  {
   "cell_type": "code",
   "execution_count": 156,
   "metadata": {},
   "outputs": [
    {
     "data": {
      "text/html": [
       "<div>\n",
       "<style>\n",
       "    .dataframe thead tr:only-child th {\n",
       "        text-align: right;\n",
       "    }\n",
       "\n",
       "    .dataframe thead th {\n",
       "        text-align: left;\n",
       "    }\n",
       "\n",
       "    .dataframe tbody tr th {\n",
       "        vertical-align: top;\n",
       "    }\n",
       "</style>\n",
       "<table border=\"1\" class=\"dataframe\">\n",
       "  <thead>\n",
       "    <tr style=\"text-align: right;\">\n",
       "      <th></th>\n",
       "      <th>INSTNM</th>\n",
       "    </tr>\n",
       "    <tr>\n",
       "      <th>States</th>\n",
       "      <th></th>\n",
       "    </tr>\n",
       "  </thead>\n",
       "  <tbody>\n",
       "    <tr>\n",
       "      <th>AK</th>\n",
       "      <td>10</td>\n",
       "    </tr>\n",
       "    <tr>\n",
       "      <th>WY</th>\n",
       "      <td>11</td>\n",
       "    </tr>\n",
       "    <tr>\n",
       "      <th>HI</th>\n",
       "      <td>26</td>\n",
       "    </tr>\n",
       "    <tr>\n",
       "      <th>MT</th>\n",
       "      <td>32</td>\n",
       "    </tr>\n",
       "    <tr>\n",
       "      <th>ID</th>\n",
       "      <td>43</td>\n",
       "    </tr>\n",
       "  </tbody>\n",
       "</table>\n",
       "</div>"
      ],
      "text/plain": [
       "        INSTNM\n",
       "States        \n",
       "AK          10\n",
       "WY          11\n",
       "HI          26\n",
       "MT          32\n",
       "ID          43"
      ]
     },
     "execution_count": 156,
     "metadata": {},
     "output_type": "execute_result"
    }
   ],
   "source": [
    "# sort 10 states by the number of institutions in each state\n",
    "data = west.groupby('States')[['INSTNM']].count().sort_values(by=['INSTNM'])\n",
    "data.head()"
   ]
  },
  {
   "cell_type": "code",
   "execution_count": 157,
   "metadata": {},
   "outputs": [
    {
     "data": {
      "text/plain": [
       "<seaborn.axisgrid.FacetGrid at 0x1a20569940>"
      ]
     },
     "execution_count": 157,
     "metadata": {},
     "output_type": "execute_result"
    },
    {
     "data": {
      "image/png": "[encoded data removed]",
      "text/plain": [
       "<matplotlib.figure.Figure at 0x1a20569e80>"
      ]
     },
     "metadata": {},
     "output_type": "display_data"
    }
   ],
   "source": [
    "# didn't use boxplot directly here, because it's easier to re-size the graph with factorplot\n",
    "sn.factorplot(x='States', y='Total Enrollment', data=west, order=data.index, aspect=2.5, kind='box')"
   ]
  },
  {
   "cell_type": "code",
   "execution_count": 144,
   "metadata": {},
   "outputs": [
    {
     "data": {
      "text/html": [
       "<div>\n",
       "<style>\n",
       "    .dataframe thead tr:only-child th {\n",
       "        text-align: right;\n",
       "    }\n",
       "\n",
       "    .dataframe thead th {\n",
       "        text-align: left;\n",
       "    }\n",
       "\n",
       "    .dataframe tbody tr th {\n",
       "        vertical-align: top;\n",
       "    }\n",
       "</style>\n",
       "<table border=\"1\" class=\"dataframe\">\n",
       "  <thead>\n",
       "    <tr style=\"text-align: right;\">\n",
       "      <th></th>\n",
       "      <th>States</th>\n",
       "      <th>Gender</th>\n",
       "      <th>Enrollment</th>\n",
       "    </tr>\n",
       "  </thead>\n",
       "  <tbody>\n",
       "    <tr>\n",
       "      <th>0</th>\n",
       "      <td>AK</td>\n",
       "      <td>ENRLM</td>\n",
       "      <td>776.0</td>\n",
       "    </tr>\n",
       "    <tr>\n",
       "      <th>1</th>\n",
       "      <td>AK</td>\n",
       "      <td>ENRLM</td>\n",
       "      <td>NaN</td>\n",
       "    </tr>\n",
       "    <tr>\n",
       "      <th>2</th>\n",
       "      <td>AK</td>\n",
       "      <td>ENRLM</td>\n",
       "      <td>392.0</td>\n",
       "    </tr>\n",
       "    <tr>\n",
       "      <th>3</th>\n",
       "      <td>AK</td>\n",
       "      <td>ENRLM</td>\n",
       "      <td>59.0</td>\n",
       "    </tr>\n",
       "    <tr>\n",
       "      <th>4</th>\n",
       "      <td>AK</td>\n",
       "      <td>ENRLM</td>\n",
       "      <td>15.0</td>\n",
       "    </tr>\n",
       "  </tbody>\n",
       "</table>\n",
       "</div>"
      ],
      "text/plain": [
       "  States Gender  Enrollment\n",
       "0     AK  ENRLM       776.0\n",
       "1     AK  ENRLM         NaN\n",
       "2     AK  ENRLM       392.0\n",
       "3     AK  ENRLM        59.0\n",
       "4     AK  ENRLM        15.0"
      ]
     },
     "execution_count": 144,
     "metadata": {},
     "output_type": "execute_result"
    }
   ],
   "source": [
    "# melt the dataset\n",
    "gender=pd.melt(west, id_vars=['STABBR'], value_vars=['ENRLM','ENRLW'])\n",
    "# rename the axle columns\n",
    "gender=gender.rename(columns={\"STABBR\":\"States\",\"variable\":\"Gender\",\"value\":\"Enrollment\"})\n",
    "gender.head()"
   ]
  },
  {
   "cell_type": "code",
   "execution_count": 146,
   "metadata": {},
   "outputs": [
    {
     "data": {
      "text/plain": [
       "<seaborn.axisgrid.FacetGrid at 0x10cc04470>"
      ]
     },
     "execution_count": 146,
     "metadata": {},
     "output_type": "execute_result"
    },
    {
     "data": {
      "image/png": "[encoded data removed]",
      "text/plain": [
       "<matplotlib.figure.Figure at 0x1a21047f98>"
      ]
     },
     "metadata": {},
     "output_type": "display_data"
    }
   ],
   "source": [
    "sn.factorplot(x='States', y='Enrollment', data=gender, aspect=2.8, kind='box', hue='Gender')"
   ]
  },
  {
   "cell_type": "code",
   "execution_count": 161,
   "metadata": {},
   "outputs": [
    {
     "data": {
      "text/html": [
       "<div>\n",
       "<style>\n",
       "    .dataframe thead tr:only-child th {\n",
       "        text-align: right;\n",
       "    }\n",
       "\n",
       "    .dataframe thead th {\n",
       "        text-align: left;\n",
       "    }\n",
       "\n",
       "    .dataframe tbody tr th {\n",
       "        vertical-align: top;\n",
       "    }\n",
       "</style>\n",
       "<table border=\"1\" class=\"dataframe\">\n",
       "  <thead>\n",
       "    <tr style=\"text-align: right;\">\n",
       "      <th></th>\n",
       "      <th>UNITID</th>\n",
       "      <th>INSTNM</th>\n",
       "      <th>ZIP</th>\n",
       "      <th>STABBR</th>\n",
       "      <th>ENRLT</th>\n",
       "      <th>ENRLM</th>\n",
       "      <th>ENRLW</th>\n",
       "      <th>ADMSSNW</th>\n",
       "      <th>ADMSSNM</th>\n",
       "    </tr>\n",
       "  </thead>\n",
       "  <tbody>\n",
       "    <tr>\n",
       "      <th>241</th>\n",
       "      <td>110574</td>\n",
       "      <td>California State University-East Bay</td>\n",
       "      <td>94542</td>\n",
       "      <td>CA</td>\n",
       "      <td>1596.0</td>\n",
       "      <td>588.0</td>\n",
       "      <td>1008.0</td>\n",
       "      <td>7039.0</td>\n",
       "      <td>3891.0</td>\n",
       "    </tr>\n",
       "    <tr>\n",
       "      <th>246</th>\n",
       "      <td>110635</td>\n",
       "      <td>University of California-Berkeley</td>\n",
       "      <td>94720</td>\n",
       "      <td>CA</td>\n",
       "      <td>6182.0</td>\n",
       "      <td>2997.0</td>\n",
       "      <td>3185.0</td>\n",
       "      <td>7766.0</td>\n",
       "      <td>6209.0</td>\n",
       "    </tr>\n",
       "    <tr>\n",
       "      <th>254</th>\n",
       "      <td>110714</td>\n",
       "      <td>University of California-Santa Cruz</td>\n",
       "      <td>95064-1011</td>\n",
       "      <td>CA</td>\n",
       "      <td>4221.0</td>\n",
       "      <td>2149.0</td>\n",
       "      <td>2072.0</td>\n",
       "      <td>15883.0</td>\n",
       "      <td>12569.0</td>\n",
       "    </tr>\n",
       "    <tr>\n",
       "      <th>490</th>\n",
       "      <td>122597</td>\n",
       "      <td>San Francisco State University</td>\n",
       "      <td>94132</td>\n",
       "      <td>CA</td>\n",
       "      <td>3642.0</td>\n",
       "      <td>1483.0</td>\n",
       "      <td>2159.0</td>\n",
       "      <td>15688.0</td>\n",
       "      <td>9016.0</td>\n",
       "    </tr>\n",
       "    <tr>\n",
       "      <th>492</th>\n",
       "      <td>122612</td>\n",
       "      <td>University of San Francisco</td>\n",
       "      <td>94117-1080</td>\n",
       "      <td>CA</td>\n",
       "      <td>1587.0</td>\n",
       "      <td>576.0</td>\n",
       "      <td>1011.0</td>\n",
       "      <td>7245.0</td>\n",
       "      <td>3666.0</td>\n",
       "    </tr>\n",
       "  </tbody>\n",
       "</table>\n",
       "</div>"
      ],
      "text/plain": [
       "     UNITID                                INSTNM         ZIP STABBR   ENRLT  \\\n",
       "241  110574  California State University-East Bay       94542     CA  1596.0   \n",
       "246  110635     University of California-Berkeley       94720     CA  6182.0   \n",
       "254  110714   University of California-Santa Cruz  95064-1011     CA  4221.0   \n",
       "490  122597        San Francisco State University       94132     CA  3642.0   \n",
       "492  122612           University of San Francisco  94117-1080     CA  1587.0   \n",
       "\n",
       "      ENRLM   ENRLW  ADMSSNW  ADMSSNM  \n",
       "241   588.0  1008.0   7039.0   3891.0  \n",
       "246  2997.0  3185.0   7766.0   6209.0  \n",
       "254  2149.0  2072.0  15883.0  12569.0  \n",
       "490  1483.0  2159.0  15688.0   9016.0  \n",
       "492   576.0  1011.0   7245.0   3666.0  "
      ]
     },
     "execution_count": 161,
     "metadata": {},
     "output_type": "execute_result"
    }
   ],
   "source": [
    "# slice the original dataset by zip code and number of total enrollment\n",
    "bay=c[((c['ZIP'].str.startswith('950'))|(c['ZIP'].str.startswith('94'))) & (c['ENRLT']>1000)]\n",
    "bay.head()"
   ]
  },
  {
   "cell_type": "code",
   "execution_count": 162,
   "metadata": {
    "collapsed": true
   },
   "outputs": [],
   "source": [
    "bay['ratio']=bay.ADMSSNW/bay.ADMSSNM"
   ]
  },
  {
   "cell_type": "code",
   "execution_count": 163,
   "metadata": {},
   "outputs": [
    {
     "data": {
      "text/plain": [
       "count    8.000000\n",
       "mean     1.538144\n",
       "std      0.366351\n",
       "min      1.054316\n",
       "25%      1.260440\n",
       "50%      1.502375\n",
       "75%      1.843371\n",
       "max      1.976268\n",
       "Name: ratio, dtype: float64"
      ]
     },
     "execution_count": 163,
     "metadata": {},
     "output_type": "execute_result"
    }
   ],
   "source": [
    "# get a overview of the women/men ratio\n",
    "# on average, bay area schools admited 1.5 times more women than men \n",
    "bay.ratio.describe()"
   ]
  },
  {
   "cell_type": "code",
   "execution_count": 149,
   "metadata": {
    "collapsed": true
   },
   "outputs": [],
   "source": [
    "# calculate the standarded ratio by mean\n",
    "bay['standarded ratio']=bay.ratio-bay.ratio.mean()"
   ]
  },
  {
   "cell_type": "code",
   "execution_count": 150,
   "metadata": {
    "collapsed": true
   },
   "outputs": [],
   "source": [
    "# sort dataset by standarded ratio\n",
    "bay.sort_values(by='standarded ratio', inplace=True)"
   ]
  },
  {
   "cell_type": "code",
   "execution_count": 151,
   "metadata": {
    "collapsed": true
   },
   "outputs": [],
   "source": [
    "# rename the axle columns\n",
    "bay=bay.rename(columns={\"INSTNM\":\"Institution Names\"})"
   ]
  },
  {
   "cell_type": "code",
   "execution_count": 153,
   "metadata": {},
   "outputs": [
    {
     "data": {
      "text/plain": [
       "<seaborn.axisgrid.FacetGrid at 0x1a211f66d8>"
      ]
     },
     "execution_count": 153,
     "metadata": {},
     "output_type": "execute_result"
    },
    {
     "data": {
      "image/png": "[encoded data removed]",
      "text/plain": [
       "<matplotlib.figure.Figure at 0x1a211f6080>"
      ]
     },
     "metadata": {},
     "output_type": "display_data"
    }
   ],
   "source": [
    "sn.factorplot(x='Institution Names',y='standarded ratio', data=bay, aspect=2.5, kind='bar').\\\n",
    "    set_xticklabels(rotation=90)"
   ]
  },
  {
   "cell_type": "markdown",
   "metadata": {
    "collapsed": true
   },
   "source": [
    "# Insights:\n",
    "\n",
    "* Western states generally have more female enrollments than males\n",
    "* On average, bay area schools admited more women than men \n",
    "* After standardization, half of the bay area schools have lower femal/male admission ratios than their average and another half have higher female/male admission ratios than their average\n",
    "* It could be possible that more female admissions result in more female enrollments\n",
    "\n"
   ]
  },
  {
   "cell_type": "markdown",
   "metadata": {
    "collapsed": true
   },
   "source": [
    "# Reference:\n",
    "\n",
    "https://seaborn.pydata.org/generated/seaborn.factorplot.html\n",
    "\n",
    "https://stackoverflow.com/questions/44954123/rotate-xtick-labels-in-seaborn-boxplot\n",
    "\n"
   ]
  }
 ],
 "metadata": {
  "kernelspec": {
   "display_name": "Python 3",
   "language": "python",
   "name": "python3"
  },
  "language_info": {
   "codemirror_mode": {
    "name": "ipython",
    "version": 3
   },
   "file_extension": ".py",
   "mimetype": "text/x-python",
   "name": "python",
   "nbconvert_exporter": "python",
   "pygments_lexer": "ipython3",
   "version": "3.6.3"
  },
  "toc": {
   "nav_menu": {},
   "number_sections": true,
   "sideBar": true,
   "skip_h1_title": false,
   "title_cell": "Table of Contents",
   "title_sidebar": "Contents",
   "toc_cell": false,
   "toc_position": {},
   "toc_section_display": "block",
   "toc_window_display": false
  },
  "varInspector": {
   "cols": {
    "lenName": 16,
    "lenType": 16,
    "lenVar": 40
   },
   "kernels_config": {
    "python": {
     "delete_cmd_postfix": "",
     "delete_cmd_prefix": "del ",
     "library": "var_list.py",
     "varRefreshCmd": "print(var_dic_list())"
    },
    "r": {
     "delete_cmd_postfix": ") ",
     "delete_cmd_prefix": "rm(",
     "library": "var_list.r",
     "varRefreshCmd": "cat(var_dic_list()) "
    }
   },
   "types_to_exclude": [
    "module",
    "function",
    "builtin_function_or_method",
    "instance",
    "_Feature"
   ],
   "window_display": false
  }
 },
 "nbformat": 4,
 "nbformat_minor": 2
}
