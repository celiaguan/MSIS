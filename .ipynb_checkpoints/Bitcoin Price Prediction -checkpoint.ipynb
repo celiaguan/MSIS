{
 "cells": [
  {
   "cell_type": "code",
   "execution_count": 1,
   "metadata": {
    "collapsed": true
   },
   "outputs": [],
   "source": [
    "import pandas as pd\n",
    "import time\n",
    "import seaborn as sns\n",
    "import matplotlib.pyplot as plt\n",
    "import datetime\n",
    "import numpy as np\n",
    "\n",
    "# get market info for bitcoin from the start of 2016 to the current day\n",
    "bitcoin_market_info = pd.read_html(\"https://coinmarketcap.com/currencies/bitcoin/historical-data/?start=20130428&end=\"+time.strftime(\"%Y%m%d\"))[0]"
   ]
  },
  {
   "cell_type": "code",
   "execution_count": 2,
   "metadata": {},
   "outputs": [
    {
     "data": {
      "text/html": [
       "<div>\n",
       "<style>\n",
       "    .dataframe thead tr:only-child th {\n",
       "        text-align: right;\n",
       "    }\n",
       "\n",
       "    .dataframe thead th {\n",
       "        text-align: left;\n",
       "    }\n",
       "\n",
       "    .dataframe tbody tr th {\n",
       "        vertical-align: top;\n",
       "    }\n",
       "</style>\n",
       "<table border=\"1\" class=\"dataframe\">\n",
       "  <thead>\n",
       "    <tr style=\"text-align: right;\">\n",
       "      <th></th>\n",
       "      <th>Date</th>\n",
       "      <th>Open</th>\n",
       "      <th>High</th>\n",
       "      <th>Low</th>\n",
       "      <th>Close</th>\n",
       "      <th>Volume</th>\n",
       "      <th>Market Cap</th>\n",
       "    </tr>\n",
       "  </thead>\n",
       "  <tbody>\n",
       "    <tr>\n",
       "      <th>0</th>\n",
       "      <td>Feb 15, 2018</td>\n",
       "      <td>9488.32</td>\n",
       "      <td>10234.80</td>\n",
       "      <td>9395.58</td>\n",
       "      <td>10166.40</td>\n",
       "      <td>9062540000</td>\n",
       "      <td>160025000000</td>\n",
       "    </tr>\n",
       "    <tr>\n",
       "      <th>1</th>\n",
       "      <td>Feb 14, 2018</td>\n",
       "      <td>8599.92</td>\n",
       "      <td>9518.54</td>\n",
       "      <td>8599.92</td>\n",
       "      <td>9494.63</td>\n",
       "      <td>7909820000</td>\n",
       "      <td>145023000000</td>\n",
       "    </tr>\n",
       "    <tr>\n",
       "      <th>2</th>\n",
       "      <td>Feb 13, 2018</td>\n",
       "      <td>8926.72</td>\n",
       "      <td>8958.47</td>\n",
       "      <td>8455.41</td>\n",
       "      <td>8598.31</td>\n",
       "      <td>5696720000</td>\n",
       "      <td>150516000000</td>\n",
       "    </tr>\n",
       "    <tr>\n",
       "      <th>3</th>\n",
       "      <td>Feb 12, 2018</td>\n",
       "      <td>8141.43</td>\n",
       "      <td>8985.92</td>\n",
       "      <td>8141.43</td>\n",
       "      <td>8926.57</td>\n",
       "      <td>6256440000</td>\n",
       "      <td>137258000000</td>\n",
       "    </tr>\n",
       "    <tr>\n",
       "      <th>4</th>\n",
       "      <td>Feb 11, 2018</td>\n",
       "      <td>8616.13</td>\n",
       "      <td>8616.13</td>\n",
       "      <td>7931.10</td>\n",
       "      <td>8129.97</td>\n",
       "      <td>6122190000</td>\n",
       "      <td>145245000000</td>\n",
       "    </tr>\n",
       "  </tbody>\n",
       "</table>\n",
       "</div>"
      ],
      "text/plain": [
       "           Date     Open      High      Low     Close      Volume  \\\n",
       "0  Feb 15, 2018  9488.32  10234.80  9395.58  10166.40  9062540000   \n",
       "1  Feb 14, 2018  8599.92   9518.54  8599.92   9494.63  7909820000   \n",
       "2  Feb 13, 2018  8926.72   8958.47  8455.41   8598.31  5696720000   \n",
       "3  Feb 12, 2018  8141.43   8985.92  8141.43   8926.57  6256440000   \n",
       "4  Feb 11, 2018  8616.13   8616.13  7931.10   8129.97  6122190000   \n",
       "\n",
       "     Market Cap  \n",
       "0  160025000000  \n",
       "1  145023000000  \n",
       "2  150516000000  \n",
       "3  137258000000  \n",
       "4  145245000000  "
      ]
     },
     "execution_count": 2,
     "metadata": {},
     "output_type": "execute_result"
    }
   ],
   "source": [
    "bitcoin_market_info.head()"
   ]
  },
  {
   "cell_type": "code",
   "execution_count": null,
   "metadata": {
    "collapsed": true
   },
   "outputs": [],
   "source": []
  }
 ],
 "metadata": {
  "kernelspec": {
   "display_name": "Python 3",
   "language": "python",
   "name": "python3"
  },
  "language_info": {
   "codemirror_mode": {
    "name": "ipython",
    "version": 3
   },
   "file_extension": ".py",
   "mimetype": "text/x-python",
   "name": "python",
   "nbconvert_exporter": "python",
   "pygments_lexer": "ipython3",
   "version": "3.6.3"
  },
  "varInspector": {
   "cols": {
    "lenName": 16,
    "lenType": 16,
    "lenVar": 40
   },
   "kernels_config": {
    "python": {
     "delete_cmd_postfix": "",
     "delete_cmd_prefix": "del ",
     "library": "var_list.py",
     "varRefreshCmd": "print(var_dic_list())"
    },
    "r": {
     "delete_cmd_postfix": ") ",
     "delete_cmd_prefix": "rm(",
     "library": "var_list.r",
     "varRefreshCmd": "cat(var_dic_list()) "
    }
   },
   "types_to_exclude": [
    "module",
    "function",
    "builtin_function_or_method",
    "instance",
    "_Feature"
   ],
   "window_display": false
  }
 },
 "nbformat": 4,
 "nbformat_minor": 2
}
