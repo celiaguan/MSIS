{
 "cells": [
  {
   "cell_type": "markdown",
   "metadata": {
    "ExecuteTime": {
     "end_time": "2018-01-23T04:31:51.255588Z",
     "start_time": "2018-01-23T04:31:51.252836Z"
    }
   },
   "source": [
    "# Immigration, the stock market, and GDP"
   ]
  },
  {
   "cell_type": "markdown",
   "metadata": {},
   "source": [
    "The objective of this project is to practice working with Pandas Dataframes. To successfully complete this homework, you may use any resources available to you. \n",
    "\n",
    "Answer the following question: What has a higher correlation with the GDP in the US: stock market returns or immigration?\n",
    "\n",
    "You need to accomplish the following tasks:\n",
    "1. Install the [wbdata](http://wbdata.readthedocs.io/en/latest/) package for API access to Worldbank data.\n",
    "2. Explore the databases `Population estimates and projections`, `Global Financial Development`, and `World Development Indicators`.\n",
    "3. Get the data on `GDP per capita growth (annual %)` as a dataframe.\n",
    "4. Get the data on `Net immigration` as a dataframe (Make sure that you also have a percentage value for this). \n",
    "5. Get the data on `Stock market return (%, year-on-year)` as a dataframe.\n",
    "5. Explore the data and note the issues. \n",
    "5. Clean and combine the data.\n",
    "6. What is the correlation between the GDP and net immigration and stock market returns. "
   ]
  },
  {
   "cell_type": "code",
   "execution_count": 155,
   "metadata": {
    "ExecuteTime": {
     "end_time": "2018-01-23T22:19:47.415963Z",
     "start_time": "2018-01-23T22:19:47.409878Z"
    },
    "collapsed": true
   },
   "outputs": [],
   "source": [
    "from IPython.core.interactiveshell import InteractiveShell\n",
    "InteractiveShell.ast_node_interactivity = \"all\""
   ]
  },
  {
   "cell_type": "code",
   "execution_count": 156,
   "metadata": {},
   "outputs": [
    {
     "name": "stdout",
     "output_type": "stream",
     "text": [
      "Populating the interactive namespace from numpy and matplotlib\n"
     ]
    }
   ],
   "source": [
    "import pandas as pd\n",
    "import wbdata\n",
    "import seaborn as sns\n",
    "%pylab inline"
   ]
  },
  {
   "cell_type": "markdown",
   "metadata": {
    "collapsed": true
   },
   "source": [
    "wbdata.get_source()"
   ]
  },
  {
   "cell_type": "markdown",
   "metadata": {
    "collapsed": true
   },
   "source": [
    "wbdata.get_indicator(source=40)"
   ]
  },
  {
   "cell_type": "markdown",
   "metadata": {
    "collapsed": true
   },
   "source": [
    "wbdata.get_indicator(source=32)"
   ]
  },
  {
   "cell_type": "code",
   "execution_count": 157,
   "metadata": {},
   "outputs": [
    {
     "name": "stdout",
     "output_type": "stream",
     "text": [
      "NY.GDP.PCAP.KD.ZG\tGDP per capita growth (annual %)\n",
      "NV.AGR.PCAP.KD.ZG\tReal agricultural GDP per capita growth rate (%)\n"
     ]
    }
   ],
   "source": [
    "# search all the indicators that are related to GDP growth\n",
    "wbdata.search_indicators('GDP per capita growth')"
   ]
  },
  {
   "cell_type": "code",
   "execution_count": 158,
   "metadata": {
    "collapsed": true
   },
   "outputs": [],
   "source": [
    "# set country to US\n",
    "country = ['US']\n",
    "# get GDP per capita growth data \n",
    "indicator1 = {'NY.GDP.PCAP.KD.ZG': 'annual % GDP growth'}"
   ]
  },
  {
   "cell_type": "code",
   "execution_count": 159,
   "metadata": {},
   "outputs": [
    {
     "data": {
      "text/html": [
       "<div>\n",
       "<style>\n",
       "    .dataframe thead tr:only-child th {\n",
       "        text-align: right;\n",
       "    }\n",
       "\n",
       "    .dataframe thead th {\n",
       "        text-align: left;\n",
       "    }\n",
       "\n",
       "    .dataframe tbody tr th {\n",
       "        vertical-align: top;\n",
       "    }\n",
       "</style>\n",
       "<table border=\"1\" class=\"dataframe\">\n",
       "  <thead>\n",
       "    <tr style=\"text-align: right;\">\n",
       "      <th></th>\n",
       "      <th>annual % GDP growth</th>\n",
       "    </tr>\n",
       "    <tr>\n",
       "      <th>date</th>\n",
       "      <th></th>\n",
       "    </tr>\n",
       "  </thead>\n",
       "  <tbody>\n",
       "    <tr>\n",
       "      <th>2017</th>\n",
       "      <td>NaN</td>\n",
       "    </tr>\n",
       "    <tr>\n",
       "      <th>2016</th>\n",
       "      <td>0.784618</td>\n",
       "    </tr>\n",
       "    <tr>\n",
       "      <th>2015</th>\n",
       "      <td>2.113705</td>\n",
       "    </tr>\n",
       "    <tr>\n",
       "      <th>2014</th>\n",
       "      <td>1.612538</td>\n",
       "    </tr>\n",
       "    <tr>\n",
       "      <th>2013</th>\n",
       "      <td>0.967811</td>\n",
       "    </tr>\n",
       "  </tbody>\n",
       "</table>\n",
       "</div>"
      ],
      "text/plain": [
       "      annual % GDP growth\n",
       "date                     \n",
       "2017                  NaN\n",
       "2016             0.784618\n",
       "2015             2.113705\n",
       "2014             1.612538\n",
       "2013             0.967811"
      ]
     },
     "execution_count": 159,
     "metadata": {},
     "output_type": "execute_result"
    }
   ],
   "source": [
    "GDP_growth = wbdata.get_dataframe(indicator1, country=country, convert_date=False)\n",
    "GDP_growth.head()"
   ]
  },
  {
   "cell_type": "code",
   "execution_count": 172,
   "metadata": {},
   "outputs": [
    {
     "name": "stdout",
     "output_type": "stream",
     "text": [
      "SP.URB.GROW   \tUrban population growth (annual %)\n",
      "SP.RUR.TOTL.ZG\tRural population growth (annual %)\n",
      "SP.POP.GROW   \tPopulation growth (annual %)\n"
     ]
    }
   ],
   "source": [
    "wbdata.search_indicators('population growth')"
   ]
  },
  {
   "cell_type": "code",
   "execution_count": 182,
   "metadata": {
    "collapsed": true
   },
   "outputs": [],
   "source": [
    "# get data for net immigration and total population  \n",
    "indicator2 = {'SM.POP.NETM': 'Net Migration','SP.POP.TOTL': 'Population'}"
   ]
  },
  {
   "cell_type": "code",
   "execution_count": 244,
   "metadata": {
    "collapsed": true
   },
   "outputs": [],
   "source": [
    "migration = wbdata.get_dataframe(indicator2, country=country, convert_date=False)"
   ]
  },
  {
   "cell_type": "code",
   "execution_count": 246,
   "metadata": {},
   "outputs": [
    {
     "data": {
      "text/html": [
       "<div>\n",
       "<style>\n",
       "    .dataframe thead tr:only-child th {\n",
       "        text-align: right;\n",
       "    }\n",
       "\n",
       "    .dataframe thead th {\n",
       "        text-align: left;\n",
       "    }\n",
       "\n",
       "    .dataframe tbody tr th {\n",
       "        vertical-align: top;\n",
       "    }\n",
       "</style>\n",
       "<table border=\"1\" class=\"dataframe\">\n",
       "  <thead>\n",
       "    <tr style=\"text-align: right;\">\n",
       "      <th></th>\n",
       "      <th>Net Migration</th>\n",
       "      <th>Population</th>\n",
       "    </tr>\n",
       "    <tr>\n",
       "      <th>date</th>\n",
       "      <th></th>\n",
       "      <th></th>\n",
       "    </tr>\n",
       "  </thead>\n",
       "  <tbody>\n",
       "    <tr>\n",
       "      <th>2017</th>\n",
       "      <td>4500000.0</td>\n",
       "      <td>323127513.0</td>\n",
       "    </tr>\n",
       "    <tr>\n",
       "      <th>2016</th>\n",
       "      <td>4500000.0</td>\n",
       "      <td>323127513.0</td>\n",
       "    </tr>\n",
       "    <tr>\n",
       "      <th>2015</th>\n",
       "      <td>4500000.0</td>\n",
       "      <td>320896618.0</td>\n",
       "    </tr>\n",
       "    <tr>\n",
       "      <th>2014</th>\n",
       "      <td>4500000.0</td>\n",
       "      <td>318563456.0</td>\n",
       "    </tr>\n",
       "    <tr>\n",
       "      <th>2013</th>\n",
       "      <td>4500000.0</td>\n",
       "      <td>316204908.0</td>\n",
       "    </tr>\n",
       "    <tr>\n",
       "      <th>2012</th>\n",
       "      <td>4500000.0</td>\n",
       "      <td>313998379.0</td>\n",
       "    </tr>\n",
       "  </tbody>\n",
       "</table>\n",
       "</div>"
      ],
      "text/plain": [
       "      Net Migration   Population\n",
       "date                            \n",
       "2017      4500000.0  323127513.0\n",
       "2016      4500000.0  323127513.0\n",
       "2015      4500000.0  320896618.0\n",
       "2014      4500000.0  318563456.0\n",
       "2013      4500000.0  316204908.0\n",
       "2012      4500000.0  313998379.0"
      ]
     },
     "execution_count": 246,
     "metadata": {},
     "output_type": "execute_result"
    }
   ],
   "source": [
    "# replace the NaN value with the preceding valid value \n",
    "Net_immigration= migration.fillna(method='bfill')\n",
    "Net_immigration.head(6)"
   ]
  },
  {
   "cell_type": "code",
   "execution_count": 247,
   "metadata": {},
   "outputs": [
    {
     "data": {
      "text/html": [
       "<div>\n",
       "<style>\n",
       "    .dataframe thead tr:only-child th {\n",
       "        text-align: right;\n",
       "    }\n",
       "\n",
       "    .dataframe thead th {\n",
       "        text-align: left;\n",
       "    }\n",
       "\n",
       "    .dataframe tbody tr th {\n",
       "        vertical-align: top;\n",
       "    }\n",
       "</style>\n",
       "<table border=\"1\" class=\"dataframe\">\n",
       "  <thead>\n",
       "    <tr style=\"text-align: right;\">\n",
       "      <th></th>\n",
       "      <th>Net Migration</th>\n",
       "      <th>Population</th>\n",
       "      <th>Migration Pct</th>\n",
       "    </tr>\n",
       "    <tr>\n",
       "      <th>date</th>\n",
       "      <th></th>\n",
       "      <th></th>\n",
       "      <th></th>\n",
       "    </tr>\n",
       "  </thead>\n",
       "  <tbody>\n",
       "    <tr>\n",
       "      <th>2017</th>\n",
       "      <td>4500000.0</td>\n",
       "      <td>323127513.0</td>\n",
       "      <td>1.392639</td>\n",
       "    </tr>\n",
       "    <tr>\n",
       "      <th>2016</th>\n",
       "      <td>4500000.0</td>\n",
       "      <td>323127513.0</td>\n",
       "      <td>1.392639</td>\n",
       "    </tr>\n",
       "    <tr>\n",
       "      <th>2015</th>\n",
       "      <td>4500000.0</td>\n",
       "      <td>320896618.0</td>\n",
       "      <td>1.402321</td>\n",
       "    </tr>\n",
       "    <tr>\n",
       "      <th>2014</th>\n",
       "      <td>4500000.0</td>\n",
       "      <td>318563456.0</td>\n",
       "      <td>1.412591</td>\n",
       "    </tr>\n",
       "    <tr>\n",
       "      <th>2013</th>\n",
       "      <td>4500000.0</td>\n",
       "      <td>316204908.0</td>\n",
       "      <td>1.423128</td>\n",
       "    </tr>\n",
       "    <tr>\n",
       "      <th>2012</th>\n",
       "      <td>4500000.0</td>\n",
       "      <td>313998379.0</td>\n",
       "      <td>1.433128</td>\n",
       "    </tr>\n",
       "  </tbody>\n",
       "</table>\n",
       "</div>"
      ],
      "text/plain": [
       "      Net Migration   Population  Migration Pct\n",
       "date                                           \n",
       "2017      4500000.0  323127513.0       1.392639\n",
       "2016      4500000.0  323127513.0       1.392639\n",
       "2015      4500000.0  320896618.0       1.402321\n",
       "2014      4500000.0  318563456.0       1.412591\n",
       "2013      4500000.0  316204908.0       1.423128\n",
       "2012      4500000.0  313998379.0       1.433128"
      ]
     },
     "execution_count": 247,
     "metadata": {},
     "output_type": "execute_result"
    }
   ],
   "source": [
    "# calculate immigration percentage\n",
    "Net_immigration['Migration Pct'] = (Net_immigration['Net Migration']/Net_immigration['Population'])*100\n",
    "Net_immigration.head(6)"
   ]
  },
  {
   "cell_type": "markdown",
   "metadata": {},
   "source": [
    "### Net migration data is collected every 5 years and has a lot NaN data. So I replaced NaN data with the preceding valid value that it has "
   ]
  },
  {
   "cell_type": "code",
   "execution_count": 109,
   "metadata": {},
   "outputs": [
    {
     "name": "stdout",
     "output_type": "stream",
     "text": [
      "GFDD.OM.02\tStock market return (%, year-on-year)\n"
     ]
    }
   ],
   "source": [
    "wbdata.search_indicators('Stock market return')"
   ]
  },
  {
   "cell_type": "code",
   "execution_count": 132,
   "metadata": {},
   "outputs": [
    {
     "data": {
      "text/html": [
       "<div>\n",
       "<style>\n",
       "    .dataframe thead tr:only-child th {\n",
       "        text-align: right;\n",
       "    }\n",
       "\n",
       "    .dataframe thead th {\n",
       "        text-align: left;\n",
       "    }\n",
       "\n",
       "    .dataframe tbody tr th {\n",
       "        vertical-align: top;\n",
       "    }\n",
       "</style>\n",
       "<table border=\"1\" class=\"dataframe\">\n",
       "  <thead>\n",
       "    <tr style=\"text-align: right;\">\n",
       "      <th></th>\n",
       "      <th>Stock Return %</th>\n",
       "    </tr>\n",
       "    <tr>\n",
       "      <th>date</th>\n",
       "      <th></th>\n",
       "    </tr>\n",
       "  </thead>\n",
       "  <tbody>\n",
       "    <tr>\n",
       "      <th>2015</th>\n",
       "      <td>6.71</td>\n",
       "    </tr>\n",
       "    <tr>\n",
       "      <th>2014</th>\n",
       "      <td>17.49</td>\n",
       "    </tr>\n",
       "    <tr>\n",
       "      <th>2013</th>\n",
       "      <td>19.17</td>\n",
       "    </tr>\n",
       "    <tr>\n",
       "      <th>2012</th>\n",
       "      <td>8.81</td>\n",
       "    </tr>\n",
       "    <tr>\n",
       "      <th>2011</th>\n",
       "      <td>11.20</td>\n",
       "    </tr>\n",
       "  </tbody>\n",
       "</table>\n",
       "</div>"
      ],
      "text/plain": [
       "      Stock Return %\n",
       "date                \n",
       "2015            6.71\n",
       "2014           17.49\n",
       "2013           19.17\n",
       "2012            8.81\n",
       "2011           11.20"
      ]
     },
     "execution_count": 132,
     "metadata": {},
     "output_type": "execute_result"
    }
   ],
   "source": [
    "indicator3= {'GFDD.OM.02': 'Stock Return %'}\n",
    "Stock_return = wbdata.get_dataframe(indicator3, country=country, convert_date=False)\n",
    "Stock_return.head()"
   ]
  },
  {
   "cell_type": "code",
   "execution_count": 250,
   "metadata": {
    "scrolled": true
   },
   "outputs": [
    {
     "data": {
      "text/html": [
       "<div>\n",
       "<style>\n",
       "    .dataframe thead tr:only-child th {\n",
       "        text-align: right;\n",
       "    }\n",
       "\n",
       "    .dataframe thead th {\n",
       "        text-align: left;\n",
       "    }\n",
       "\n",
       "    .dataframe tbody tr th {\n",
       "        vertical-align: top;\n",
       "    }\n",
       "</style>\n",
       "<table border=\"1\" class=\"dataframe\">\n",
       "  <thead>\n",
       "    <tr style=\"text-align: right;\">\n",
       "      <th></th>\n",
       "      <th>annual % GDP growth</th>\n",
       "      <th>Net Migration</th>\n",
       "      <th>Population</th>\n",
       "      <th>Migration Pct</th>\n",
       "      <th>Stock Return %</th>\n",
       "    </tr>\n",
       "  </thead>\n",
       "  <tbody>\n",
       "    <tr>\n",
       "      <th>1960</th>\n",
       "      <td>NaN</td>\n",
       "      <td>NaN</td>\n",
       "      <td>180671000.0</td>\n",
       "      <td>NaN</td>\n",
       "      <td>NaN</td>\n",
       "    </tr>\n",
       "    <tr>\n",
       "      <th>1961</th>\n",
       "      <td>0.618121</td>\n",
       "      <td>NaN</td>\n",
       "      <td>183691000.0</td>\n",
       "      <td>NaN</td>\n",
       "      <td>18.67</td>\n",
       "    </tr>\n",
       "    <tr>\n",
       "      <th>1962</th>\n",
       "      <td>4.480669</td>\n",
       "      <td>1829274.0</td>\n",
       "      <td>186538000.0</td>\n",
       "      <td>0.980644</td>\n",
       "      <td>-5.96</td>\n",
       "    </tr>\n",
       "    <tr>\n",
       "      <th>1963</th>\n",
       "      <td>2.908272</td>\n",
       "      <td>1829274.0</td>\n",
       "      <td>189242000.0</td>\n",
       "      <td>0.966632</td>\n",
       "      <td>12.10</td>\n",
       "    </tr>\n",
       "    <tr>\n",
       "      <th>1964</th>\n",
       "      <td>4.340549</td>\n",
       "      <td>1829274.0</td>\n",
       "      <td>191889000.0</td>\n",
       "      <td>0.953298</td>\n",
       "      <td>16.48</td>\n",
       "    </tr>\n",
       "  </tbody>\n",
       "</table>\n",
       "</div>"
      ],
      "text/plain": [
       "      annual % GDP growth  Net Migration   Population  Migration Pct  \\\n",
       "1960                  NaN            NaN  180671000.0            NaN   \n",
       "1961             0.618121            NaN  183691000.0            NaN   \n",
       "1962             4.480669      1829274.0  186538000.0       0.980644   \n",
       "1963             2.908272      1829274.0  189242000.0       0.966632   \n",
       "1964             4.340549      1829274.0  191889000.0       0.953298   \n",
       "\n",
       "      Stock Return %  \n",
       "1960             NaN  \n",
       "1961           18.67  \n",
       "1962           -5.96  \n",
       "1963           12.10  \n",
       "1964           16.48  "
      ]
     },
     "execution_count": 250,
     "metadata": {},
     "output_type": "execute_result"
    }
   ],
   "source": [
    "# merge dataframes together\n",
    "df =pd.concat([GDP_growth,Net_immigration,Stock_return], axis=1)\n",
    "df.head()"
   ]
  },
  {
   "cell_type": "code",
   "execution_count": 252,
   "metadata": {},
   "outputs": [
    {
     "data": {
      "text/plain": [
       "annual % GDP growth    0\n",
       "Net Migration          0\n",
       "Population             0\n",
       "Migration Pct          0\n",
       "Stock Return %         0\n",
       "dtype: int64"
      ]
     },
     "execution_count": 252,
     "metadata": {},
     "output_type": "execute_result"
    }
   ],
   "source": [
    "# drop all the rows that have NaN value \n",
    "df1=df.dropna(axis=0)\n",
    "df1.isnull().sum()"
   ]
  },
  {
   "cell_type": "code",
   "execution_count": 258,
   "metadata": {},
   "outputs": [
    {
     "data": {
      "text/html": [
       "<div>\n",
       "<style>\n",
       "    .dataframe thead tr:only-child th {\n",
       "        text-align: right;\n",
       "    }\n",
       "\n",
       "    .dataframe thead th {\n",
       "        text-align: left;\n",
       "    }\n",
       "\n",
       "    .dataframe tbody tr th {\n",
       "        vertical-align: top;\n",
       "    }\n",
       "</style>\n",
       "<table border=\"1\" class=\"dataframe\">\n",
       "  <thead>\n",
       "    <tr style=\"text-align: right;\">\n",
       "      <th></th>\n",
       "      <th>annual % GDP growth</th>\n",
       "      <th>Net Migration</th>\n",
       "      <th>Population</th>\n",
       "      <th>Migration Pct</th>\n",
       "      <th>Stock Return %</th>\n",
       "    </tr>\n",
       "  </thead>\n",
       "  <tbody>\n",
       "    <tr>\n",
       "      <th>annual % GDP growth</th>\n",
       "      <td>1.000000</td>\n",
       "      <td>-0.153572</td>\n",
       "      <td>-0.360614</td>\n",
       "      <td>-0.070025</td>\n",
       "      <td>0.335633</td>\n",
       "    </tr>\n",
       "    <tr>\n",
       "      <th>Net Migration</th>\n",
       "      <td>-0.153572</td>\n",
       "      <td>1.000000</td>\n",
       "      <td>0.707744</td>\n",
       "      <td>0.965778</td>\n",
       "      <td>0.133833</td>\n",
       "    </tr>\n",
       "    <tr>\n",
       "      <th>Population</th>\n",
       "      <td>-0.360614</td>\n",
       "      <td>0.707744</td>\n",
       "      <td>1.000000</td>\n",
       "      <td>0.514370</td>\n",
       "      <td>0.083849</td>\n",
       "    </tr>\n",
       "    <tr>\n",
       "      <th>Migration Pct</th>\n",
       "      <td>-0.070025</td>\n",
       "      <td>0.965778</td>\n",
       "      <td>0.514370</td>\n",
       "      <td>1.000000</td>\n",
       "      <td>0.142323</td>\n",
       "    </tr>\n",
       "    <tr>\n",
       "      <th>Stock Return %</th>\n",
       "      <td>0.335633</td>\n",
       "      <td>0.133833</td>\n",
       "      <td>0.083849</td>\n",
       "      <td>0.142323</td>\n",
       "      <td>1.000000</td>\n",
       "    </tr>\n",
       "  </tbody>\n",
       "</table>\n",
       "</div>"
      ],
      "text/plain": [
       "                     annual % GDP growth  Net Migration  Population  \\\n",
       "annual % GDP growth             1.000000      -0.153572   -0.360614   \n",
       "Net Migration                  -0.153572       1.000000    0.707744   \n",
       "Population                     -0.360614       0.707744    1.000000   \n",
       "Migration Pct                  -0.070025       0.965778    0.514370   \n",
       "Stock Return %                  0.335633       0.133833    0.083849   \n",
       "\n",
       "                     Migration Pct  Stock Return %  \n",
       "annual % GDP growth      -0.070025        0.335633  \n",
       "Net Migration             0.965778        0.133833  \n",
       "Population                0.514370        0.083849  \n",
       "Migration Pct             1.000000        0.142323  \n",
       "Stock Return %            0.142323        1.000000  "
      ]
     },
     "execution_count": 258,
     "metadata": {},
     "output_type": "execute_result"
    }
   ],
   "source": [
    "# calculation the correlation between them \n",
    "df1.corr()"
   ]
  },
  {
   "cell_type": "code",
   "execution_count": 259,
   "metadata": {
    "collapsed": true
   },
   "outputs": [],
   "source": [
    "corr = df1[[\"annual % GDP growth\",\"Migration Pct\",\"Stock Return %\"]].corr()"
   ]
  },
  {
   "cell_type": "code",
   "execution_count": 260,
   "metadata": {},
   "outputs": [
    {
     "data": {
      "text/plain": [
       "<matplotlib.axes._subplots.AxesSubplot at 0x1a198652b0>"
      ]
     },
     "execution_count": 260,
     "metadata": {},
     "output_type": "execute_result"
    },
    {
     "data": {
      "image/png": "[encoded data removed]",
      "text/plain": [
       "<matplotlib.figure.Figure at 0x1c1b15d3c8>"
      ]
     },
     "metadata": {},
     "output_type": "display_data"
    }
   ],
   "source": [
    "sns.heatmap(corr, cmap='Blues')"
   ]
  },
  {
   "cell_type": "markdown",
   "metadata": {},
   "source": [
    "# Insights\n",
    "* Stock market is positively correlated with GDP growth, but immigration is nagetively correlated with GDP grwoth.\n",
    "* Although politicians should consider the negative relationship between immigrants and GDP growth, the degree of that is not that strong \n",
    "* Stock market has a much stronger positive relationship with GDP growth"
   ]
  },
  {
   "cell_type": "markdown",
   "metadata": {},
   "source": [
    "# Reference\n",
    "\n",
    "http://wbdata.readthedocs.io/en/latest/index.html\n",
    "\n",
    "https://pandas.pydata.org/pandas-docs/stable/generated/pandas.concat.html\n",
    "\n",
    "https://seaborn.pydata.org/generated/seaborn.heatmap.html\n",
    "\n",
    "https://pandas.pydata.org/pandas-docs/stable/generated/pandas.DataFrame.dropna.html"
   ]
  },
  {
   "cell_type": "markdown",
   "metadata": {
    "collapsed": true
   },
   "source": [
    "## NOTE\n",
    "1. interpolate(): smooth the data\n",
    "\n",
    "2. outlier sources: errors and true events (if you removed a true outlier, you assume that incident would not happen again)\n",
    "\n",
    "3. know your assumptions \n",
    "\n",
    "4. make your trasnformation explicit \n",
    "\n",
    "5. be skeptical about results \n"
   ]
  },
  {
   "cell_type": "code",
   "execution_count": null,
   "metadata": {
    "collapsed": true
   },
   "outputs": [],
   "source": []
  }
 ],
 "metadata": {
  "_draft": {
   "nbviewer_url": "https://gist.github.com/aaff88d4e49be62c4bb7c3d718b095de"
  },
  "gist": {
   "data": {
    "description": "Documents/GitHub/MSIS/Immigration, the stock market, and GDP.ipynb",
    "public": false
   },
   "id": "aaff88d4e49be62c4bb7c3d718b095de"
  },
  "kernelspec": {
   "display_name": "Python 3",
   "language": "python",
   "name": "python3"
  },
  "language_info": {
   "codemirror_mode": {
    "name": "ipython",
    "version": 3
   },
   "file_extension": ".py",
   "mimetype": "text/x-python",
   "name": "python",
   "nbconvert_exporter": "python",
   "pygments_lexer": "ipython3",
   "version": "3.6.3"
  },
  "toc": {
   "nav_menu": {},
   "number_sections": true,
   "sideBar": true,
   "skip_h1_title": false,
   "toc_cell": false,
   "toc_position": {},
   "toc_section_display": "block",
   "toc_window_display": false
  },
  "varInspector": {
   "cols": {
    "lenName": 16,
    "lenType": 16,
    "lenVar": 40
   },
   "kernels_config": {
    "python": {
     "delete_cmd_postfix": "",
     "delete_cmd_prefix": "del ",
     "library": "var_list.py",
     "varRefreshCmd": "print(var_dic_list())"
    },
    "r": {
     "delete_cmd_postfix": ") ",
     "delete_cmd_prefix": "rm(",
     "library": "var_list.r",
     "varRefreshCmd": "cat(var_dic_list()) "
    }
   },
   "types_to_exclude": [
    "module",
    "function",
    "builtin_function_or_method",
    "instance",
    "_Feature"
   ],
   "window_display": false
  }
 },
 "nbformat": 4,
 "nbformat_minor": 2
}
