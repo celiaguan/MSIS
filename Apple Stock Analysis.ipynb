{
 "cells": [
  {
   "cell_type": "markdown",
   "metadata": {
    "ExecuteTime": {
     "end_time": "2018-01-09T22:16:12.534253Z",
     "start_time": "2018-01-09T22:16:12.530354Z"
    }
   },
   "source": [
    "# Apple Stock Analysis - Celia Guan"
   ]
  },
  {
   "cell_type": "markdown",
   "metadata": {},
   "source": [
    "The objective of this homework is to practice working with **Pandas Series**. To successfully complete this homework, you may use any resources available to you."
   ]
  },
  {
   "cell_type": "markdown",
   "metadata": {
    "ExecuteTime": {
     "end_time": "2018-01-09T22:43:29.993598Z",
     "start_time": "2018-01-09T22:43:29.974919Z"
    }
   },
   "source": [
    "You need to accomplish the following tasks:\n",
    "1. Download the Apple stock data for the timeframe of 1982 to today.\n",
    "1. Use the %magic command to activate inline matplotlib graphs\n",
    "2. Provide an overview of the `Close` series of the Apple stock.\n",
    "3. Identify three approaches of obtaining the maximum closing price. What is the difference between the approaches?\n",
    "3. Find the timeframes with the highest stock price surge in five days. Can you explain why these five dates?\n",
    "4. Resample the `Close` series to represent business quarters with a financial year that ends in September.\n",
    "3. Identify series of four quarters with the an overall surge in the stock prices that is larger than 100 percent. Can you explain why the larges surge happened? Visualize it.\n",
    "\n",
    "If you use tutorials/code snippets that you find on the internet to complete this task, make sure that you reference them. Also make sure that the Jupyter notebook is free of mistakes, well-documented, and professionally formatted before you submit it.\n",
    "\n",
    "This homework is due on **Tuesday, 23 2018**.\n",
    "\n",
    "*This homework is based on an assignment created by Michele Samorani.*"
   ]
  },
  {
   "cell_type": "markdown",
   "metadata": {},
   "source": [
    "Lets' make sure that we allow multiple outputs."
   ]
  },
  {
   "cell_type": "code",
   "execution_count": 6,
   "metadata": {
    "collapsed": true
   },
   "outputs": [],
   "source": [
    "from IPython.core.interactiveshell import InteractiveShell\n",
    "InteractiveShell.ast_node_interactivity = \"all\""
   ]
  },
  {
   "cell_type": "markdown",
   "metadata": {},
   "source": [
    "Install the [pandas-datareader package](https://pandas-datareader.readthedocs.io/en/latest/). This package allows you to obtain stock information."
   ]
  },
  {
   "cell_type": "markdown",
   "metadata": {},
   "source": [
    "* Write a function that has the ticker symbol and the start/enddate as input and that returns a dataframe with the stock information.\n",
    "* Use the function to get the stock information for Apple from 1982 to today."
   ]
  },
  {
   "cell_type": "code",
   "execution_count": 2,
   "metadata": {
    "collapsed": true
   },
   "outputs": [],
   "source": [
    "import pandas\n",
    "import pandas_datareader.data as web\n",
    "import datetime"
   ]
  },
  {
   "cell_type": "code",
   "execution_count": 3,
   "metadata": {
    "collapsed": true
   },
   "outputs": [],
   "source": [
    "def get_stock(ticker_symbol, start, end):    # a function passes 3 parameters and returns a dataframe\n",
    "    df = web.DataReader(ticker_symbol, 'yahoo', start, end)\n",
    "    return df"
   ]
  },
  {
   "cell_type": "code",
   "execution_count": 7,
   "metadata": {},
   "outputs": [
    {
     "data": {
      "text/html": [
       "<div>\n",
       "<style>\n",
       "    .dataframe thead tr:only-child th {\n",
       "        text-align: right;\n",
       "    }\n",
       "\n",
       "    .dataframe thead th {\n",
       "        text-align: left;\n",
       "    }\n",
       "\n",
       "    .dataframe tbody tr th {\n",
       "        vertical-align: top;\n",
       "    }\n",
       "</style>\n",
       "<table border=\"1\" class=\"dataframe\">\n",
       "  <thead>\n",
       "    <tr style=\"text-align: right;\">\n",
       "      <th></th>\n",
       "      <th>Open</th>\n",
       "      <th>High</th>\n",
       "      <th>Low</th>\n",
       "      <th>Close</th>\n",
       "      <th>Adj Close</th>\n",
       "      <th>Volume</th>\n",
       "    </tr>\n",
       "    <tr>\n",
       "      <th>Date</th>\n",
       "      <th></th>\n",
       "      <th></th>\n",
       "      <th></th>\n",
       "      <th></th>\n",
       "      <th></th>\n",
       "      <th></th>\n",
       "    </tr>\n",
       "  </thead>\n",
       "  <tbody>\n",
       "    <tr>\n",
       "      <th>1982-01-04</th>\n",
       "      <td>0.395089</td>\n",
       "      <td>0.395089</td>\n",
       "      <td>0.392857</td>\n",
       "      <td>0.392857</td>\n",
       "      <td>0.321458</td>\n",
       "      <td>17813600</td>\n",
       "    </tr>\n",
       "    <tr>\n",
       "      <th>1982-01-05</th>\n",
       "      <td>0.377232</td>\n",
       "      <td>0.377232</td>\n",
       "      <td>0.372768</td>\n",
       "      <td>0.372768</td>\n",
       "      <td>0.305020</td>\n",
       "      <td>8960000</td>\n",
       "    </tr>\n",
       "    <tr>\n",
       "      <th>1982-01-06</th>\n",
       "      <td>0.370536</td>\n",
       "      <td>0.370536</td>\n",
       "      <td>0.368304</td>\n",
       "      <td>0.368304</td>\n",
       "      <td>0.301367</td>\n",
       "      <td>16520000</td>\n",
       "    </tr>\n",
       "    <tr>\n",
       "      <th>1982-01-07</th>\n",
       "      <td>0.343750</td>\n",
       "      <td>0.343750</td>\n",
       "      <td>0.339286</td>\n",
       "      <td>0.339286</td>\n",
       "      <td>0.277623</td>\n",
       "      <td>17511200</td>\n",
       "    </tr>\n",
       "    <tr>\n",
       "      <th>1982-01-08</th>\n",
       "      <td>0.354911</td>\n",
       "      <td>0.357143</td>\n",
       "      <td>0.354911</td>\n",
       "      <td>0.354911</td>\n",
       "      <td>0.290408</td>\n",
       "      <td>14151200</td>\n",
       "    </tr>\n",
       "  </tbody>\n",
       "</table>\n",
       "</div>"
      ],
      "text/plain": [
       "                Open      High       Low     Close  Adj Close    Volume\n",
       "Date                                                                   \n",
       "1982-01-04  0.395089  0.395089  0.392857  0.392857   0.321458  17813600\n",
       "1982-01-05  0.377232  0.377232  0.372768  0.372768   0.305020   8960000\n",
       "1982-01-06  0.370536  0.370536  0.368304  0.368304   0.301367  16520000\n",
       "1982-01-07  0.343750  0.343750  0.339286  0.339286   0.277623  17511200\n",
       "1982-01-08  0.354911  0.357143  0.354911  0.354911   0.290408  14151200"
      ]
     },
     "execution_count": 7,
     "metadata": {},
     "output_type": "execute_result"
    }
   ],
   "source": [
    "start = datetime.datetime(1982, 1, 1)   # starting from 1982\n",
    "end = datetime.date.today()\n",
    "ap = get_stock('AAPL', start, end)    #get all Apple stock info from 1982 to today\n",
    "ap.head()"
   ]
  },
  {
   "cell_type": "markdown",
   "metadata": {
    "ExecuteTime": {
     "end_time": "2018-01-17T02:59:18.307999Z",
     "start_time": "2018-01-17T02:59:18.295456Z"
    }
   },
   "source": [
    "Use the %magic command to activate inline matplotlib graphs and plot the `Close` series."
   ]
  },
  {
   "cell_type": "code",
   "execution_count": 8,
   "metadata": {},
   "outputs": [
    {
     "name": "stdout",
     "output_type": "stream",
     "text": [
      "Populating the interactive namespace from numpy and matplotlib\n"
     ]
    }
   ],
   "source": [
    "import matplotlib.pyplot as plt\n",
    "%matplotlib inline\n",
    "%pylab inline"
   ]
  },
  {
   "cell_type": "markdown",
   "metadata": {},
   "source": [
    "Provide an overview of the Close series of the Apple stock."
   ]
  },
  {
   "cell_type": "code",
   "execution_count": 82,
   "metadata": {},
   "outputs": [
    {
     "data": {
      "text/plain": [
       "Date\n",
       "1982-01-04    0.392857\n",
       "1982-01-05    0.372768\n",
       "1982-01-06    0.368304\n",
       "1982-01-07    0.339286\n",
       "1982-01-08    0.354911\n",
       "1982-01-11    0.332589\n",
       "1982-01-12    0.321429\n",
       "1982-01-13    0.319196\n",
       "1982-01-14    0.334821\n",
       "1982-01-15    0.357143\n",
       "Name: Close, dtype: float64"
      ]
     },
     "execution_count": 82,
     "metadata": {},
     "output_type": "execute_result"
    }
   ],
   "source": [
    "closing = ap['Close'].copy()\n",
    "closing.head(10)"
   ]
  },
  {
   "cell_type": "code",
   "execution_count": 10,
   "metadata": {},
   "outputs": [
    {
     "data": {
      "text/plain": [
       "<matplotlib.axes._subplots.AxesSubplot at 0x113ed2978>"
      ]
     },
     "execution_count": 10,
     "metadata": {},
     "output_type": "execute_result"
    },
    {
     "data": {
      "image/png": "[encoded data removed]",
      "text/plain": [
       "<matplotlib.figure.Figure at 0x113bea4e0>"
      ]
     },
     "metadata": {},
     "output_type": "display_data"
    }
   ],
   "source": [
    "pylab.rcParams['figure.figsize'] = (15, 9)   # resize the plots\n",
    "closing.plot(grid = True)"
   ]
  },
  {
   "cell_type": "markdown",
   "metadata": {},
   "source": [
    "Identify three approaches of obtaining the maximum closing price. What is the difference between the approaches?"
   ]
  },
  {
   "cell_type": "code",
   "execution_count": 11,
   "metadata": {},
   "outputs": [
    {
     "data": {
      "text/plain": [
       "179.259995"
      ]
     },
     "execution_count": 11,
     "metadata": {},
     "output_type": "execute_result"
    }
   ],
   "source": [
    "# First approach \n",
    "closing.max()\n",
    "\n",
    "# This approach only gives single value without index. It's a float number.\n",
    "# It's the quickest way I can think of to get the value if you don't need index info"
   ]
  },
  {
   "cell_type": "code",
   "execution_count": 19,
   "metadata": {},
   "outputs": [
    {
     "data": {
      "text/plain": [
       "Date\n",
       "2018-01-18    179.259995\n",
       "Name: Close, dtype: float64"
      ]
     },
     "execution_count": 19,
     "metadata": {},
     "output_type": "execute_result"
    }
   ],
   "source": [
    "# Second approach\n",
    "closing.nlargest(1)\n",
    "\n",
    "#This approach gives both value and index and some other information. It's a slice of closing series."
   ]
  },
  {
   "cell_type": "code",
   "execution_count": 18,
   "metadata": {},
   "outputs": [
    {
     "data": {
      "text/plain": [
       "179.259995"
      ]
     },
     "execution_count": 18,
     "metadata": {},
     "output_type": "execute_result"
    }
   ],
   "source": [
    "# Third approach \n",
    "closing.sort_values(ascending= False)[0]\n",
    "\n",
    "#This approach is similar to the first approach, but less effective. It gives a float number."
   ]
  },
  {
   "cell_type": "markdown",
   "metadata": {},
   "source": [
    "Find the five timeframes with the highest stock price surge in five days (in % compared to the closing cost of the previous trading day). Do you notice something? Can you explain what happend during the timeframes?"
   ]
  },
  {
   "cell_type": "code",
   "execution_count": 132,
   "metadata": {
    "scrolled": true
   },
   "outputs": [],
   "source": [
    "# find % change of closing price for a period of 5 days\n",
    "surge = (closing - closing.shift(5))/closing.shift(5)"
   ]
  },
  {
   "cell_type": "code",
   "execution_count": 143,
   "metadata": {},
   "outputs": [
    {
     "data": {
      "text/plain": [
       "Date\n",
       "1997-08-07    0.667858\n",
       "1997-08-06    0.514388\n",
       "1998-01-06    0.442857\n",
       "1997-08-08    0.397393\n",
       "1998-01-08    0.385715\n",
       "Name: Close, dtype: float64"
      ]
     },
     "execution_count": 143,
     "metadata": {},
     "output_type": "execute_result"
    }
   ],
   "source": [
    "# list 5 peirods with the highest price surge\n",
    "percentage = surge.sort_values(ascending = False )\n",
    "percentage[0:5]"
   ]
  },
  {
   "cell_type": "code",
   "execution_count": 142,
   "metadata": {},
   "outputs": [
    {
     "data": {
      "text/plain": [
       "Date\n",
       "1997-08-07    66.79%\n",
       "1997-08-06    51.44%\n",
       "1998-01-06    44.29%\n",
       "1997-08-08    39.74%\n",
       "1998-01-08    38.57%\n",
       "Name: Close, dtype: object"
      ]
     },
     "execution_count": 142,
     "metadata": {},
     "output_type": "execute_result"
    }
   ],
   "source": [
    "# Formulate the rusult into %\n",
    "percentage.apply(lambda x: \"{:.2%}\".format(x))[0:5]"
   ]
  },
  {
   "cell_type": "markdown",
   "metadata": {},
   "source": [
    "## Reasons for surging \n",
    "* In Augest 1997, Apple announced $150 million investment from Microsoft \n",
    "\n",
    "* In 1998, Apple reported earnings of more than $45 million in the first quarter of fiscal 1998, becuase of it's successful G3 product  "
   ]
  },
  {
   "cell_type": "markdown",
   "metadata": {},
   "source": [
    "Resample the Close series to represent business quarters with a financial year that ends in September."
   ]
  },
  {
   "cell_type": "code",
   "execution_count": 144,
   "metadata": {},
   "outputs": [
    {
     "data": {
      "text/plain": [
       "Date\n",
       "1982-03-31    0.327765\n",
       "1982-06-30    0.263747\n",
       "1982-09-30    0.270752\n",
       "1982-12-31    0.503418\n",
       "1983-03-31    0.724383\n",
       "Freq: Q-DEC, Name: Close, dtype: float64"
      ]
     },
     "execution_count": 144,
     "metadata": {},
     "output_type": "execute_result"
    }
   ],
   "source": [
    "# resample closing series into quarters and get the mean for each quarter \n",
    "closing_q = closing.resample(\"Q\").mean()\n",
    "closing_q.head()"
   ]
  },
  {
   "cell_type": "markdown",
   "metadata": {
    "ExecuteTime": {
     "end_time": "2018-01-17T03:02:56.165199Z",
     "start_time": "2018-01-17T03:02:56.147414Z"
    }
   },
   "source": [
    "Identify series of four quarters with the an overall surge in the stock prices that is larger than 100 percent. \n",
    "Can you explain why the largest surge happened?."
   ]
  },
  {
   "cell_type": "code",
   "execution_count": null,
   "metadata": {
    "collapsed": true
   },
   "outputs": [],
   "source": [
    "# find % change of closing price for a period of 4 quarters \n",
    "q_surge = (closing_q - closing_q.shift(4))/closing_q.shift(4)"
   ]
  },
  {
   "cell_type": "code",
   "execution_count": 137,
   "metadata": {},
   "outputs": [
    {
     "data": {
      "text/plain": [
       "Date\n",
       "1983-03-31    1.210070\n",
       "1983-06-30    2.535599\n",
       "1983-09-30    1.342265\n",
       "1986-09-30    1.145433\n",
       "1987-03-31    1.380916\n",
       "1987-06-30    1.310072\n",
       "1987-09-30    1.777266\n",
       "1987-12-31    1.151228\n",
       "1998-12-31    1.032061\n",
       "1999-12-31    1.474256\n",
       "2000-03-31    2.051193\n",
       "2000-06-30    1.480830\n",
       "2004-12-31    1.551070\n",
       "2005-03-31    2.286090\n",
       "2005-06-30    1.642195\n",
       "2005-09-30    1.752693\n",
       "2005-12-31    1.284838\n",
       "2007-09-30    1.048307\n",
       "2007-12-31    1.156003\n",
       "2009-12-31    1.077988\n",
       "2010-03-31    1.253349\n",
       "Name: Close, dtype: float64"
      ]
     },
     "execution_count": 137,
     "metadata": {},
     "output_type": "execute_result"
    }
   ],
   "source": [
    "# list those quarters with the changes that are over 100%\n",
    "result = q_surge[q_surge>1]\n",
    "result"
   ]
  },
  {
   "cell_type": "code",
   "execution_count": 125,
   "metadata": {},
   "outputs": [
    {
     "data": {
      "text/plain": [
       "<matplotlib.axes._subplots.AxesSubplot at 0x11c51d160>"
      ]
     },
     "execution_count": 125,
     "metadata": {},
     "output_type": "execute_result"
    },
    {
     "data": {
      "image/png": "[encoded data removed]",
      "text/plain": [
       "<matplotlib.figure.Figure at 0x11c521240>"
      ]
     },
     "metadata": {},
     "output_type": "display_data"
    }
   ],
   "source": [
    "# Visualize series of four quarters that closing price surge are over 100%\n",
    "result.plot()"
   ]
  },
  {
   "cell_type": "code",
   "execution_count": 92,
   "metadata": {},
   "outputs": [
    {
     "data": {
      "text/plain": [
       "Date\n",
       "1983-06-30    2.535599\n",
       "Name: Close, dtype: float64"
      ]
     },
     "execution_count": 92,
     "metadata": {},
     "output_type": "execute_result"
    }
   ],
   "source": [
    "# find the quater with the highest % change\n",
    "q_surge[q_surge>1].nlargest(1)"
   ]
  },
  {
   "cell_type": "markdown",
   "metadata": {},
   "source": [
    "## Reseason\n",
    "Apple introduced the Lisa personal computer. "
   ]
  },
  {
   "cell_type": "markdown",
   "metadata": {},
   "source": [
    "Visualize the stock price for the quarters with the highest price surge."
   ]
  },
  {
   "cell_type": "code",
   "execution_count": 139,
   "metadata": {},
   "outputs": [],
   "source": [
    "# Get the daily prices for four qaurters with the highest surge \n",
    "high_res = closing[\"1982-07-01\" : \"1983-06-30\"] "
   ]
  },
  {
   "cell_type": "code",
   "execution_count": 138,
   "metadata": {
    "scrolled": false
   },
   "outputs": [
    {
     "data": {
      "text/plain": [
       "<matplotlib.axes._subplots.AxesSubplot at 0x1131a05c0>"
      ]
     },
     "execution_count": 138,
     "metadata": {},
     "output_type": "execute_result"
    },
    {
     "data": {
      "image/png": "[encoded data removed]",
      "text/plain": [
       "<matplotlib.figure.Figure at 0x1131ac6a0>"
      ]
     },
     "metadata": {},
     "output_type": "display_data"
    }
   ],
   "source": [
    "# Visualize these four quarters with the highest price surge\n",
    "high_res.plot()"
   ]
  },
  {
   "cell_type": "markdown",
   "metadata": {},
   "source": [
    "# Reference:\n",
    "https://ntguardian.wordpress.com/2016/09/19/introduction-stock-market-data-python-1/\n",
    "\n",
    "http://pandas-datareader.readthedocs.io/en/latest/remote_data.html\n",
    "\n",
    "https://stackoverflow.com/questions/22991567/pandas-yahoo-finance-datareader\n",
    "\n",
    "http://www.nytimes.com/1997/08/07/business/microsoft-comes-to-the-aid-of-a-struggling-apple.html\n",
    "\n",
    "http://money.cnn.com/1998/01/06/technology/apple_chrono/\n",
    "\n",
    "http://oldcomputers.net/lisa.html\n",
    "\n",
    "http://www.secnetix.de/olli/Python/lambda_functions.hawk"
   ]
  },
  {
   "cell_type": "code",
   "execution_count": null,
   "metadata": {
    "collapsed": true
   },
   "outputs": [],
   "source": []
  }
 ],
 "metadata": {
  "kernelspec": {
   "display_name": "Python 3",
   "language": "python",
   "name": "python3"
  },
  "language_info": {
   "codemirror_mode": {
    "name": "ipython",
    "version": 3
   },
   "file_extension": ".py",
   "mimetype": "text/x-python",
   "name": "python",
   "nbconvert_exporter": "python",
   "pygments_lexer": "ipython3",
   "version": "3.6.3"
  },
  "toc": {
   "nav_menu": {},
   "number_sections": true,
   "sideBar": true,
   "skip_h1_title": false,
   "toc_cell": false,
   "toc_position": {},
   "toc_section_display": "block",
   "toc_window_display": false
  },
  "varInspector": {
   "cols": {
    "lenName": 16,
    "lenType": 16,
    "lenVar": 40
   },
   "kernels_config": {
    "python": {
     "delete_cmd_postfix": "",
     "delete_cmd_prefix": "del ",
     "library": "var_list.py",
     "varRefreshCmd": "print(var_dic_list())"
    },
    "r": {
     "delete_cmd_postfix": ") ",
     "delete_cmd_prefix": "rm(",
     "library": "var_list.r",
     "varRefreshCmd": "cat(var_dic_list()) "
    }
   },
   "types_to_exclude": [
    "module",
    "function",
    "builtin_function_or_method",
    "instance",
    "_Feature"
   ],
   "window_display": false
  }
 },
 "nbformat": 4,
 "nbformat_minor": 2
}
