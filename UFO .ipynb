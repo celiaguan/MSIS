{
 "cells": [
  {
   "cell_type": "markdown",
   "metadata": {
    "ExecuteTime": {
     "end_time": "2018-01-23T04:31:51.255588Z",
     "start_time": "2018-01-23T04:31:51.252836Z"
    }
   },
   "source": [
    "# UFOs!!!"
   ]
  },
  {
   "cell_type": "markdown",
   "metadata": {},
   "source": [
    "The objective of this homework is to practice cleaning and transforming data. To successfully complete this homework, you may use any resources available to you. \n",
    "\n",
    "Get the `scrubbed.csv` data [here](https://www.kaggle.com/NUFORC/ufo-sightings/data). Develop **three** interesting insights into the UFO phenomenon. \n",
    "1. When and where do people see UFOs in California? \n",
    "2. Are there differences in the circumstances of UFO sightings across the U.S. states? (Explore the comment column)\n",
    "3. What is the average length of UFO sightings across the U.S. states?\n",
    "\n",
    "Hints:\n",
    "* When you explore the comment column, think about the work we did on twitter. \n",
    "* For better performance, download the data to your local drive.\n",
    "* Make reasonable assumptions when transforming the length data."
   ]
  },
  {
   "cell_type": "code",
   "execution_count": 93,
   "metadata": {
    "ExecuteTime": {
     "end_time": "2018-01-31T08:06:27.003343Z",
     "start_time": "2018-01-31T08:06:26.994913Z"
    },
    "collapsed": true
   },
   "outputs": [],
   "source": [
    "from IPython.core.interactiveshell import InteractiveShell\n",
    "InteractiveShell.ast_node_interactivity = \"all\""
   ]
  },
  {
   "cell_type": "code",
   "execution_count": 94,
   "metadata": {
    "collapsed": true
   },
   "outputs": [],
   "source": [
    "import pandas as pd\n",
    "import numpy as np"
   ]
  },
  {
   "cell_type": "code",
   "execution_count": 127,
   "metadata": {},
   "outputs": [],
   "source": [
    "data = pd.read_csv('/Users/celiaguan/Downloads/scrubbed.csv', low_memory=False, index_col=0)"
   ]
  },
  {
   "cell_type": "code",
   "execution_count": 306,
   "metadata": {},
   "outputs": [
    {
     "data": {
      "text/html": [
       "<div>\n",
       "<style>\n",
       "    .dataframe thead tr:only-child th {\n",
       "        text-align: right;\n",
       "    }\n",
       "\n",
       "    .dataframe thead th {\n",
       "        text-align: left;\n",
       "    }\n",
       "\n",
       "    .dataframe tbody tr th {\n",
       "        vertical-align: top;\n",
       "    }\n",
       "</style>\n",
       "<table border=\"1\" class=\"dataframe\">\n",
       "  <thead>\n",
       "    <tr style=\"text-align: right;\">\n",
       "      <th></th>\n",
       "      <th>city</th>\n",
       "      <th>state</th>\n",
       "      <th>country</th>\n",
       "      <th>shape</th>\n",
       "      <th>duration (seconds)</th>\n",
       "      <th>duration (hours/min)</th>\n",
       "      <th>comments</th>\n",
       "      <th>date posted</th>\n",
       "      <th>latitude</th>\n",
       "      <th>longitude</th>\n",
       "    </tr>\n",
       "    <tr>\n",
       "      <th>datetime</th>\n",
       "      <th></th>\n",
       "      <th></th>\n",
       "      <th></th>\n",
       "      <th></th>\n",
       "      <th></th>\n",
       "      <th></th>\n",
       "      <th></th>\n",
       "      <th></th>\n",
       "      <th></th>\n",
       "      <th></th>\n",
       "    </tr>\n",
       "  </thead>\n",
       "  <tbody>\n",
       "    <tr>\n",
       "      <th>10/10/49 20:30</th>\n",
       "      <td>san marcos</td>\n",
       "      <td>tx</td>\n",
       "      <td>us</td>\n",
       "      <td>cylinder</td>\n",
       "      <td>2700</td>\n",
       "      <td>45 minutes</td>\n",
       "      <td>This event took place in early fall around 194...</td>\n",
       "      <td>4/27/04</td>\n",
       "      <td>29.8830556</td>\n",
       "      <td>-97.941111</td>\n",
       "    </tr>\n",
       "    <tr>\n",
       "      <th>10/10/49 21:00</th>\n",
       "      <td>lackland afb</td>\n",
       "      <td>tx</td>\n",
       "      <td>NaN</td>\n",
       "      <td>light</td>\n",
       "      <td>7200</td>\n",
       "      <td>1-2 hrs</td>\n",
       "      <td>1949 Lackland AFB&amp;#44 TX.  Lights racing acros...</td>\n",
       "      <td>12/16/05</td>\n",
       "      <td>29.38421</td>\n",
       "      <td>-98.581082</td>\n",
       "    </tr>\n",
       "    <tr>\n",
       "      <th>10/10/55 17:00</th>\n",
       "      <td>chester (uk/england)</td>\n",
       "      <td>NaN</td>\n",
       "      <td>gb</td>\n",
       "      <td>circle</td>\n",
       "      <td>20</td>\n",
       "      <td>20 seconds</td>\n",
       "      <td>Green/Orange circular disc over Chester&amp;#44 En...</td>\n",
       "      <td>1/21/08</td>\n",
       "      <td>53.2</td>\n",
       "      <td>-2.916667</td>\n",
       "    </tr>\n",
       "    <tr>\n",
       "      <th>10/10/56 21:00</th>\n",
       "      <td>edna</td>\n",
       "      <td>tx</td>\n",
       "      <td>us</td>\n",
       "      <td>circle</td>\n",
       "      <td>20</td>\n",
       "      <td>1/2 hour</td>\n",
       "      <td>My older brother and twin sister were leaving ...</td>\n",
       "      <td>1/17/04</td>\n",
       "      <td>28.9783333</td>\n",
       "      <td>-96.645833</td>\n",
       "    </tr>\n",
       "    <tr>\n",
       "      <th>10/10/60 20:00</th>\n",
       "      <td>kaneohe</td>\n",
       "      <td>hi</td>\n",
       "      <td>us</td>\n",
       "      <td>light</td>\n",
       "      <td>900</td>\n",
       "      <td>15 minutes</td>\n",
       "      <td>AS a Marine 1st Lt. flying an FJ4B fighter/att...</td>\n",
       "      <td>1/22/04</td>\n",
       "      <td>21.4180556</td>\n",
       "      <td>-157.803611</td>\n",
       "    </tr>\n",
       "  </tbody>\n",
       "</table>\n",
       "</div>"
      ],
      "text/plain": [
       "                                city state country     shape  \\\n",
       "datetime                                                       \n",
       "10/10/49 20:30            san marcos    tx      us  cylinder   \n",
       "10/10/49 21:00          lackland afb    tx     NaN     light   \n",
       "10/10/55 17:00  chester (uk/england)   NaN      gb    circle   \n",
       "10/10/56 21:00                  edna    tx      us    circle   \n",
       "10/10/60 20:00               kaneohe    hi      us     light   \n",
       "\n",
       "               duration (seconds) duration (hours/min)  \\\n",
       "datetime                                                 \n",
       "10/10/49 20:30               2700           45 minutes   \n",
       "10/10/49 21:00               7200              1-2 hrs   \n",
       "10/10/55 17:00                 20           20 seconds   \n",
       "10/10/56 21:00                 20             1/2 hour   \n",
       "10/10/60 20:00                900           15 minutes   \n",
       "\n",
       "                                                         comments date posted  \\\n",
       "datetime                                                                        \n",
       "10/10/49 20:30  This event took place in early fall around 194...     4/27/04   \n",
       "10/10/49 21:00  1949 Lackland AFB&#44 TX.  Lights racing acros...    12/16/05   \n",
       "10/10/55 17:00  Green/Orange circular disc over Chester&#44 En...     1/21/08   \n",
       "10/10/56 21:00  My older brother and twin sister were leaving ...     1/17/04   \n",
       "10/10/60 20:00  AS a Marine 1st Lt. flying an FJ4B fighter/att...     1/22/04   \n",
       "\n",
       "                  latitude  longitude   \n",
       "datetime                                \n",
       "10/10/49 20:30  29.8830556  -97.941111  \n",
       "10/10/49 21:00    29.38421  -98.581082  \n",
       "10/10/55 17:00        53.2   -2.916667  \n",
       "10/10/56 21:00  28.9783333  -96.645833  \n",
       "10/10/60 20:00  21.4180556 -157.803611  "
      ]
     },
     "execution_count": 306,
     "metadata": {},
     "output_type": "execute_result"
    }
   ],
   "source": [
    "data.head()"
   ]
  },
  {
   "cell_type": "markdown",
   "metadata": {},
   "source": [
    "### 1. When and where do people see UFOs in California?"
   ]
  },
  {
   "cell_type": "code",
   "execution_count": 190,
   "metadata": {
    "scrolled": true
   },
   "outputs": [
    {
     "data": {
      "text/plain": [
       "datetime\n",
       "10/10/68 13:00    hawthorne\n",
       "10/10/79 22:00    san diego\n",
       "10/10/89 0:00     calabasas\n",
       "10/10/95 22:40      oakland\n",
       "10/10/98 2:30     hollywood\n",
       "Name: city, dtype: object"
      ]
     },
     "execution_count": 190,
     "metadata": {},
     "output_type": "execute_result"
    }
   ],
   "source": [
    "# time and location people see UFOs in California\n",
    "ufo_ca = data[data['state']=='ca']['city']\n",
    "ufo_ca.head()"
   ]
  },
  {
   "cell_type": "code",
   "execution_count": 310,
   "metadata": {},
   "outputs": [
    {
     "data": {
      "text/plain": [
       "datetime      city         \n",
       "1/1/00 0:03   los angeles      1\n",
       "1/1/00 0:23   san diego        1\n",
       "1/1/00 16:20  san francisco    1\n",
       "1/1/00 5:00   clovis           1\n",
       "1/1/01 0:02   woodland         1\n",
       "Name: city, dtype: int64"
      ]
     },
     "execution_count": 310,
     "metadata": {},
     "output_type": "execute_result"
    }
   ],
   "source": [
    "# how many times people saw UFO in a city in CA at a specific time\n",
    "data[data['state']=='ca'].groupby(['datetime','city'])['city'].count().head()"
   ]
  },
  {
   "cell_type": "code",
   "execution_count": 92,
   "metadata": {},
   "outputs": [],
   "source": [
    "#data[(data['country']=='us') & (data['state']=='ca')]['city']"
   ]
  },
  {
   "cell_type": "code",
   "execution_count": 204,
   "metadata": {
    "scrolled": true
   },
   "outputs": [],
   "source": [
    "#data[data['country'].isnull()][['city','state','country']]"
   ]
  },
  {
   "cell_type": "markdown",
   "metadata": {},
   "source": [
    "### 2. Are there differences in the circumstances of UFO sightings across the U.S. states?"
   ]
  },
  {
   "cell_type": "code",
   "execution_count": 104,
   "metadata": {},
   "outputs": [],
   "source": [
    "# list of US states\n",
    "us_states=data[data['country']=='us']['state'].unique()"
   ]
  },
  {
   "cell_type": "code",
   "execution_count": 211,
   "metadata": {},
   "outputs": [
    {
     "data": {
      "text/html": [
       "<div>\n",
       "<style>\n",
       "    .dataframe thead tr:only-child th {\n",
       "        text-align: right;\n",
       "    }\n",
       "\n",
       "    .dataframe thead th {\n",
       "        text-align: left;\n",
       "    }\n",
       "\n",
       "    .dataframe tbody tr th {\n",
       "        vertical-align: top;\n",
       "    }\n",
       "</style>\n",
       "<table border=\"1\" class=\"dataframe\">\n",
       "  <thead>\n",
       "    <tr style=\"text-align: right;\">\n",
       "      <th></th>\n",
       "      <th>comments</th>\n",
       "    </tr>\n",
       "    <tr>\n",
       "      <th>state</th>\n",
       "      <th></th>\n",
       "    </tr>\n",
       "  </thead>\n",
       "  <tbody>\n",
       "    <tr>\n",
       "      <th>ak</th>\n",
       "      <td>[It looked like a star but it would move and a...</td>\n",
       "    </tr>\n",
       "    <tr>\n",
       "      <th>al</th>\n",
       "      <td>[Strobe Lighted disk shape object observed clo...</td>\n",
       "    </tr>\n",
       "    <tr>\n",
       "      <th>ar</th>\n",
       "      <td>[Round&amp;#44 bright&amp;#44 low flying object silent...</td>\n",
       "    </tr>\n",
       "    <tr>\n",
       "      <th>az</th>\n",
       "      <td>[A small dark purple quad-thruster craft hover...</td>\n",
       "    </tr>\n",
       "    <tr>\n",
       "      <th>ca</th>\n",
       "      <td>[ROUND &amp;#44 ORANGE &amp;#44 WITH WHAT I WOULD SAY ...</td>\n",
       "    </tr>\n",
       "  </tbody>\n",
       "</table>\n",
       "</div>"
      ],
      "text/plain": [
       "                                                comments\n",
       "state                                                   \n",
       "ak     [It looked like a star but it would move and a...\n",
       "al     [Strobe Lighted disk shape object observed clo...\n",
       "ar     [Round&#44 bright&#44 low flying object silent...\n",
       "az     [A small dark purple quad-thruster craft hover...\n",
       "ca     [ROUND &#44 ORANGE &#44 WITH WHAT I WOULD SAY ..."
      ]
     },
     "execution_count": 211,
     "metadata": {},
     "output_type": "execute_result"
    }
   ],
   "source": [
    "# aggregate all comments in a state to a list\n",
    "comments = data[data['state'].isin(us_states)][['state', 'comments']].groupby('state').agg(lambda x: x.tolist())\n",
    "comments.head()"
   ]
  },
  {
   "cell_type": "code",
   "execution_count": 212,
   "metadata": {},
   "outputs": [
    {
     "data": {
      "text/html": [
       "<div>\n",
       "<style>\n",
       "    .dataframe thead tr:only-child th {\n",
       "        text-align: right;\n",
       "    }\n",
       "\n",
       "    .dataframe thead th {\n",
       "        text-align: left;\n",
       "    }\n",
       "\n",
       "    .dataframe tbody tr th {\n",
       "        vertical-align: top;\n",
       "    }\n",
       "</style>\n",
       "<table border=\"1\" class=\"dataframe\">\n",
       "  <thead>\n",
       "    <tr style=\"text-align: right;\">\n",
       "      <th></th>\n",
       "      <th>comments</th>\n",
       "    </tr>\n",
       "    <tr>\n",
       "      <th>state</th>\n",
       "      <th></th>\n",
       "    </tr>\n",
       "  </thead>\n",
       "  <tbody>\n",
       "    <tr>\n",
       "      <th>ak</th>\n",
       "      <td>It looked like a star but it would move and af...</td>\n",
       "    </tr>\n",
       "    <tr>\n",
       "      <th>al</th>\n",
       "      <td>Strobe Lighted disk shape object observed clos...</td>\n",
       "    </tr>\n",
       "    <tr>\n",
       "      <th>ar</th>\n",
       "      <td>Round&amp;#44 bright&amp;#44 low flying object silentl...</td>\n",
       "    </tr>\n",
       "    <tr>\n",
       "      <th>az</th>\n",
       "      <td>A small dark purple quad-thruster craft hoveri...</td>\n",
       "    </tr>\n",
       "    <tr>\n",
       "      <th>ca</th>\n",
       "      <td>ROUND &amp;#44 ORANGE &amp;#44 WITH WHAT I WOULD SAY W...</td>\n",
       "    </tr>\n",
       "  </tbody>\n",
       "</table>\n",
       "</div>"
      ],
      "text/plain": [
       "                                                comments\n",
       "state                                                   \n",
       "ak     It looked like a star but it would move and af...\n",
       "al     Strobe Lighted disk shape object observed clos...\n",
       "ar     Round&#44 bright&#44 low flying object silentl...\n",
       "az     A small dark purple quad-thruster craft hoveri...\n",
       "ca     ROUND &#44 ORANGE &#44 WITH WHAT I WOULD SAY W..."
      ]
     },
     "execution_count": 212,
     "metadata": {},
     "output_type": "execute_result"
    }
   ],
   "source": [
    "# turn the list into strings\n",
    "comments['comments'] = comments['comments'].apply(lambda x: ' '.join(str(s) for s in x))\n",
    "comments.head()"
   ]
  },
  {
   "cell_type": "code",
   "execution_count": 292,
   "metadata": {
    "collapsed": true
   },
   "outputs": [],
   "source": [
    "import nltk\n",
    "import re\n",
    "import string\n",
    "from nltk.corpus import stopwords\n",
    "from nltk.tokenize import word_tokenize\n",
    "from vaderSentiment.vaderSentiment import SentimentIntensityAnalyzer"
   ]
  },
  {
   "cell_type": "code",
   "execution_count": 293,
   "metadata": {
    "collapsed": true
   },
   "outputs": [],
   "source": [
    "stop = set(stopwords.words('english'))"
   ]
  },
  {
   "cell_type": "code",
   "execution_count": 294,
   "metadata": {
    "collapsed": true
   },
   "outputs": [],
   "source": [
    "# tokenize comments into single words\n",
    "def tokenize(text):\n",
    "    try:\n",
    "        # remove all punctuations and numbers\n",
    "        punc_num = re.compile('['+re.escape(string.punctuation)+'0-9\\\\r\\\\t\\\\n]')\n",
    "        # substitute punctuations and numbers with space \n",
    "        text = punc_num.sub(' ', text)\n",
    "        \n",
    "        # tokenize words\n",
    "        word = word_tokenize(text)\n",
    "        # filter out stop words\n",
    "        word = list(filter(lambda x: x.lower() not in stop, word))\n",
    "        # filter out those words that lenth is shorter than 2\n",
    "        word = [w.lower() for w in word if len(w)>2]\n",
    "        \n",
    "        return word\n",
    "    except TypeError as e: print(text,e)"
   ]
  },
  {
   "cell_type": "code",
   "execution_count": 295,
   "metadata": {},
   "outputs": [],
   "source": [
    "cm = comments.copy()"
   ]
  },
  {
   "cell_type": "code",
   "execution_count": 296,
   "metadata": {},
   "outputs": [
    {
     "data": {
      "text/html": [
       "<div>\n",
       "<style>\n",
       "    .dataframe thead tr:only-child th {\n",
       "        text-align: right;\n",
       "    }\n",
       "\n",
       "    .dataframe thead th {\n",
       "        text-align: left;\n",
       "    }\n",
       "\n",
       "    .dataframe tbody tr th {\n",
       "        vertical-align: top;\n",
       "    }\n",
       "</style>\n",
       "<table border=\"1\" class=\"dataframe\">\n",
       "  <thead>\n",
       "    <tr style=\"text-align: right;\">\n",
       "      <th></th>\n",
       "      <th>comments</th>\n",
       "    </tr>\n",
       "    <tr>\n",
       "      <th>state</th>\n",
       "      <th></th>\n",
       "    </tr>\n",
       "  </thead>\n",
       "  <tbody>\n",
       "    <tr>\n",
       "      <th>ak</th>\n",
       "      <td>[looked, like, star, would, move, seconds, red...</td>\n",
       "    </tr>\n",
       "    <tr>\n",
       "      <th>al</th>\n",
       "      <td>[strobe, lighted, disk, shape, object, observe...</td>\n",
       "    </tr>\n",
       "    <tr>\n",
       "      <th>ar</th>\n",
       "      <td>[round, bright, low, flying, object, silently,...</td>\n",
       "    </tr>\n",
       "    <tr>\n",
       "      <th>az</th>\n",
       "      <td>[small, dark, purple, quad, thruster, craft, h...</td>\n",
       "    </tr>\n",
       "    <tr>\n",
       "      <th>ca</th>\n",
       "      <td>[round, orange, would, say, polished, metal, k...</td>\n",
       "    </tr>\n",
       "  </tbody>\n",
       "</table>\n",
       "</div>"
      ],
      "text/plain": [
       "                                                comments\n",
       "state                                                   \n",
       "ak     [looked, like, star, would, move, seconds, red...\n",
       "al     [strobe, lighted, disk, shape, object, observe...\n",
       "ar     [round, bright, low, flying, object, silently,...\n",
       "az     [small, dark, purple, quad, thruster, craft, h...\n",
       "ca     [round, orange, would, say, polished, metal, k..."
      ]
     },
     "execution_count": 296,
     "metadata": {},
     "output_type": "execute_result"
    }
   ],
   "source": [
    "cm['comments']=cm['comments'].apply(tokenize)\n",
    "cm.head()"
   ]
  },
  {
   "cell_type": "code",
   "execution_count": 297,
   "metadata": {},
   "outputs": [],
   "source": [
    "# analyze sentiment for comments and calculate the ratio of sentiments words against all the words \n",
    "sid = SentimentIntensityAnalyzer()\n",
    "def pos(text):\n",
    "    positive = 0\n",
    "    try:\n",
    "        for word in text:\n",
    "            if (sid.polarity_scores(word)['compound']) >= 0.5:\n",
    "                positive +=1\n",
    "        return positive/len(text)*100\n",
    "    except TypeError as e: print(text,e)          "
   ]
  },
  {
   "cell_type": "code",
   "execution_count": 298,
   "metadata": {
    "collapsed": true
   },
   "outputs": [],
   "source": [
    "def neg(text):\n",
    "    negative = 0\n",
    "    try:\n",
    "        for word in text:\n",
    "            if (sid.polarity_scores(word)['compound']) <= -0.5:\n",
    "                negative +=1\n",
    "        return negative/len(text)*100\n",
    "    except TypeError as e: print(text,e)"
   ]
  },
  {
   "cell_type": "code",
   "execution_count": 299,
   "metadata": {},
   "outputs": [
    {
     "data": {
      "text/html": [
       "<div>\n",
       "<style>\n",
       "    .dataframe thead tr:only-child th {\n",
       "        text-align: right;\n",
       "    }\n",
       "\n",
       "    .dataframe thead th {\n",
       "        text-align: left;\n",
       "    }\n",
       "\n",
       "    .dataframe tbody tr th {\n",
       "        vertical-align: top;\n",
       "    }\n",
       "</style>\n",
       "<table border=\"1\" class=\"dataframe\">\n",
       "  <thead>\n",
       "    <tr style=\"text-align: right;\">\n",
       "      <th></th>\n",
       "      <th>comments</th>\n",
       "      <th>positive %</th>\n",
       "      <th>negative %</th>\n",
       "      <th>sentiment ratio</th>\n",
       "    </tr>\n",
       "    <tr>\n",
       "      <th>state</th>\n",
       "      <th></th>\n",
       "      <th></th>\n",
       "      <th></th>\n",
       "      <th></th>\n",
       "    </tr>\n",
       "  </thead>\n",
       "  <tbody>\n",
       "    <tr>\n",
       "      <th>ak</th>\n",
       "      <td>[looked, like, star, would, move, seconds, red...</td>\n",
       "      <td>0.130378</td>\n",
       "      <td>0.065189</td>\n",
       "      <td>2.000000</td>\n",
       "    </tr>\n",
       "    <tr>\n",
       "      <th>al</th>\n",
       "      <td>[strobe, lighted, disk, shape, object, observe...</td>\n",
       "      <td>0.264988</td>\n",
       "      <td>0.115932</td>\n",
       "      <td>2.285714</td>\n",
       "    </tr>\n",
       "    <tr>\n",
       "      <th>ar</th>\n",
       "      <td>[round, bright, low, flying, object, silently,...</td>\n",
       "      <td>0.201918</td>\n",
       "      <td>0.084133</td>\n",
       "      <td>2.400000</td>\n",
       "    </tr>\n",
       "    <tr>\n",
       "      <th>az</th>\n",
       "      <td>[small, dark, purple, quad, thruster, craft, h...</td>\n",
       "      <td>0.272236</td>\n",
       "      <td>0.059552</td>\n",
       "      <td>4.571429</td>\n",
       "    </tr>\n",
       "    <tr>\n",
       "      <th>ca</th>\n",
       "      <td>[round, orange, would, say, polished, metal, k...</td>\n",
       "      <td>0.326383</td>\n",
       "      <td>0.065048</td>\n",
       "      <td>5.017544</td>\n",
       "    </tr>\n",
       "  </tbody>\n",
       "</table>\n",
       "</div>"
      ],
      "text/plain": [
       "                                                comments  positive %  \\\n",
       "state                                                                  \n",
       "ak     [looked, like, star, would, move, seconds, red...    0.130378   \n",
       "al     [strobe, lighted, disk, shape, object, observe...    0.264988   \n",
       "ar     [round, bright, low, flying, object, silently,...    0.201918   \n",
       "az     [small, dark, purple, quad, thruster, craft, h...    0.272236   \n",
       "ca     [round, orange, would, say, polished, metal, k...    0.326383   \n",
       "\n",
       "       negative %  sentiment ratio  \n",
       "state                               \n",
       "ak       0.065189         2.000000  \n",
       "al       0.115932         2.285714  \n",
       "ar       0.084133         2.400000  \n",
       "az       0.059552         4.571429  \n",
       "ca       0.065048         5.017544  "
      ]
     },
     "execution_count": 299,
     "metadata": {},
     "output_type": "execute_result"
    }
   ],
   "source": [
    "cm['positive %']=cm['comments'].apply(pos)\n",
    "cm['negative %']=cm['comments'].apply(neg)\n",
    "cm['sentiment ratio']=cm['positive %']/cm['negative %']\n",
    "cm.head()"
   ]
  },
  {
   "cell_type": "code",
   "execution_count": 312,
   "metadata": {},
   "outputs": [
    {
     "data": {
      "text/html": [
       "<div>\n",
       "<style>\n",
       "    .dataframe thead tr:only-child th {\n",
       "        text-align: right;\n",
       "    }\n",
       "\n",
       "    .dataframe thead th {\n",
       "        text-align: left;\n",
       "    }\n",
       "\n",
       "    .dataframe tbody tr th {\n",
       "        vertical-align: top;\n",
       "    }\n",
       "</style>\n",
       "<table border=\"1\" class=\"dataframe\">\n",
       "  <thead>\n",
       "    <tr style=\"text-align: right;\">\n",
       "      <th></th>\n",
       "      <th>comments</th>\n",
       "      <th>positive %</th>\n",
       "      <th>negative %</th>\n",
       "      <th>sentiment ratio</th>\n",
       "    </tr>\n",
       "    <tr>\n",
       "      <th>state</th>\n",
       "      <th></th>\n",
       "      <th></th>\n",
       "      <th></th>\n",
       "      <th></th>\n",
       "    </tr>\n",
       "  </thead>\n",
       "  <tbody>\n",
       "    <tr>\n",
       "      <th>mt</th>\n",
       "      <td>[floating, light, like, spotlight, friend, out...</td>\n",
       "      <td>0.649060</td>\n",
       "      <td>0.156670</td>\n",
       "      <td>4.142857</td>\n",
       "    </tr>\n",
       "    <tr>\n",
       "      <th>mn</th>\n",
       "      <td>[traveling, northbound, state, highway, approx...</td>\n",
       "      <td>0.555971</td>\n",
       "      <td>0.064151</td>\n",
       "      <td>8.666667</td>\n",
       "    </tr>\n",
       "    <tr>\n",
       "      <th>de</th>\n",
       "      <td>[moon, sized, object, quot, grew, quot, fill, ...</td>\n",
       "      <td>0.449006</td>\n",
       "      <td>0.000000</td>\n",
       "      <td>inf</td>\n",
       "    </tr>\n",
       "    <tr>\n",
       "      <th>ne</th>\n",
       "      <td>[object, moving, erratically, sky, stopped, sp...</td>\n",
       "      <td>0.444313</td>\n",
       "      <td>0.059242</td>\n",
       "      <td>7.500000</td>\n",
       "    </tr>\n",
       "    <tr>\n",
       "      <th>wv</th>\n",
       "      <td>[solid, round, silver, ball, passing, msl, sma...</td>\n",
       "      <td>0.443511</td>\n",
       "      <td>0.023343</td>\n",
       "      <td>19.000000</td>\n",
       "    </tr>\n",
       "  </tbody>\n",
       "</table>\n",
       "</div>"
      ],
      "text/plain": [
       "                                                comments  positive %  \\\n",
       "state                                                                  \n",
       "mt     [floating, light, like, spotlight, friend, out...    0.649060   \n",
       "mn     [traveling, northbound, state, highway, approx...    0.555971   \n",
       "de     [moon, sized, object, quot, grew, quot, fill, ...    0.449006   \n",
       "ne     [object, moving, erratically, sky, stopped, sp...    0.444313   \n",
       "wv     [solid, round, silver, ball, passing, msl, sma...    0.443511   \n",
       "\n",
       "       negative %  sentiment ratio  \n",
       "state                               \n",
       "mt       0.156670         4.142857  \n",
       "mn       0.064151         8.666667  \n",
       "de       0.000000              inf  \n",
       "ne       0.059242         7.500000  \n",
       "wv       0.023343        19.000000  "
      ]
     },
     "execution_count": 312,
     "metadata": {},
     "output_type": "execute_result"
    }
   ],
   "source": [
    "cm.sort_values('positive %', ascending=False).head(5)"
   ]
  },
  {
   "cell_type": "markdown",
   "metadata": {},
   "source": [
    "### The top five states that describe UFOs with positive words are MONTANA, MINNESOTA, DELAWARE, NEBRASKA, WEST VIRGINIA"
   ]
  },
  {
   "cell_type": "code",
   "execution_count": 313,
   "metadata": {},
   "outputs": [
    {
     "data": {
      "text/html": [
       "<div>\n",
       "<style>\n",
       "    .dataframe thead tr:only-child th {\n",
       "        text-align: right;\n",
       "    }\n",
       "\n",
       "    .dataframe thead th {\n",
       "        text-align: left;\n",
       "    }\n",
       "\n",
       "    .dataframe tbody tr th {\n",
       "        vertical-align: top;\n",
       "    }\n",
       "</style>\n",
       "<table border=\"1\" class=\"dataframe\">\n",
       "  <thead>\n",
       "    <tr style=\"text-align: right;\">\n",
       "      <th></th>\n",
       "      <th>comments</th>\n",
       "      <th>positive %</th>\n",
       "      <th>negative %</th>\n",
       "      <th>sentiment ratio</th>\n",
       "    </tr>\n",
       "    <tr>\n",
       "      <th>state</th>\n",
       "      <th></th>\n",
       "      <th></th>\n",
       "      <th></th>\n",
       "      <th></th>\n",
       "    </tr>\n",
       "  </thead>\n",
       "  <tbody>\n",
       "    <tr>\n",
       "      <th>ri</th>\n",
       "      <td>[bright, oval, object, sky, watching, sky, lik...</td>\n",
       "      <td>0.198098</td>\n",
       "      <td>0.198098</td>\n",
       "      <td>1.000000</td>\n",
       "    </tr>\n",
       "    <tr>\n",
       "      <th>ky</th>\n",
       "      <td>[slow, moving, silent, craft, accelerated, unb...</td>\n",
       "      <td>0.246433</td>\n",
       "      <td>0.168612</td>\n",
       "      <td>1.461538</td>\n",
       "    </tr>\n",
       "    <tr>\n",
       "      <th>nd</th>\n",
       "      <td>[missing, time, obj, lights, triangular, shape...</td>\n",
       "      <td>0.246914</td>\n",
       "      <td>0.164609</td>\n",
       "      <td>1.500000</td>\n",
       "    </tr>\n",
       "    <tr>\n",
       "      <th>mt</th>\n",
       "      <td>[floating, light, like, spotlight, friend, out...</td>\n",
       "      <td>0.649060</td>\n",
       "      <td>0.156670</td>\n",
       "      <td>4.142857</td>\n",
       "    </tr>\n",
       "    <tr>\n",
       "      <th>md</th>\n",
       "      <td>[freinds, familes, see, ufo, bright, light, mo...</td>\n",
       "      <td>0.387742</td>\n",
       "      <td>0.150094</td>\n",
       "      <td>2.583333</td>\n",
       "    </tr>\n",
       "  </tbody>\n",
       "</table>\n",
       "</div>"
      ],
      "text/plain": [
       "                                                comments  positive %  \\\n",
       "state                                                                  \n",
       "ri     [bright, oval, object, sky, watching, sky, lik...    0.198098   \n",
       "ky     [slow, moving, silent, craft, accelerated, unb...    0.246433   \n",
       "nd     [missing, time, obj, lights, triangular, shape...    0.246914   \n",
       "mt     [floating, light, like, spotlight, friend, out...    0.649060   \n",
       "md     [freinds, familes, see, ufo, bright, light, mo...    0.387742   \n",
       "\n",
       "       negative %  sentiment ratio  \n",
       "state                               \n",
       "ri       0.198098         1.000000  \n",
       "ky       0.168612         1.461538  \n",
       "nd       0.164609         1.500000  \n",
       "mt       0.156670         4.142857  \n",
       "md       0.150094         2.583333  "
      ]
     },
     "execution_count": 313,
     "metadata": {},
     "output_type": "execute_result"
    }
   ],
   "source": [
    "cm.sort_values('negative %', ascending=False).head(5)"
   ]
  },
  {
   "cell_type": "markdown",
   "metadata": {},
   "source": [
    "### The top five states that describe UFOs with negative words are RHODE ISLAND, KENTUCKY, NORTH DAKOTA, MONTANA, MARYLAND. MONTANA has been listed in both list. This suggests that people there have polarized opinion toward UFOs compared to other states."
   ]
  },
  {
   "cell_type": "code",
   "execution_count": 315,
   "metadata": {},
   "outputs": [
    {
     "data": {
      "text/plain": [
       "comments           [floating, light, like, spotlight, friend, out...\n",
       "positive %                                                   0.64906\n",
       "negative %                                                   0.15667\n",
       "sentiment ratio                                              4.14286\n",
       "Name: mt, dtype: object"
      ]
     },
     "execution_count": 315,
     "metadata": {},
     "output_type": "execute_result"
    }
   ],
   "source": [
    "cm.loc['mt']"
   ]
  },
  {
   "cell_type": "markdown",
   "metadata": {},
   "source": [
    "### Although MONTANA is ranked high on both list, the amount of positive comments is still 4 times larger than negative ones "
   ]
  },
  {
   "cell_type": "code",
   "execution_count": 305,
   "metadata": {},
   "outputs": [
    {
     "data": {
      "text/html": [
       "<div>\n",
       "<style>\n",
       "    .dataframe thead tr:only-child th {\n",
       "        text-align: right;\n",
       "    }\n",
       "\n",
       "    .dataframe thead th {\n",
       "        text-align: left;\n",
       "    }\n",
       "\n",
       "    .dataframe tbody tr th {\n",
       "        vertical-align: top;\n",
       "    }\n",
       "</style>\n",
       "<table border=\"1\" class=\"dataframe\">\n",
       "  <thead>\n",
       "    <tr style=\"text-align: right;\">\n",
       "      <th></th>\n",
       "      <th>comments</th>\n",
       "      <th>positive %</th>\n",
       "      <th>negative %</th>\n",
       "      <th>sentiment ratio</th>\n",
       "    </tr>\n",
       "    <tr>\n",
       "      <th>state</th>\n",
       "      <th></th>\n",
       "      <th></th>\n",
       "      <th></th>\n",
       "      <th></th>\n",
       "    </tr>\n",
       "  </thead>\n",
       "  <tbody>\n",
       "    <tr>\n",
       "      <th>wy</th>\n",
       "      <td>[stationary, object, horizon, flashing, red, g...</td>\n",
       "      <td>0.328407</td>\n",
       "      <td>0.000000</td>\n",
       "      <td>inf</td>\n",
       "    </tr>\n",
       "    <tr>\n",
       "      <th>de</th>\n",
       "      <td>[moon, sized, object, quot, grew, quot, fill, ...</td>\n",
       "      <td>0.449006</td>\n",
       "      <td>0.000000</td>\n",
       "      <td>inf</td>\n",
       "    </tr>\n",
       "    <tr>\n",
       "      <th>hi</th>\n",
       "      <td>[marine, flying, fighter, attack, aircraft, so...</td>\n",
       "      <td>0.374065</td>\n",
       "      <td>0.000000</td>\n",
       "      <td>inf</td>\n",
       "    </tr>\n",
       "    <tr>\n",
       "      <th>pr</th>\n",
       "      <td>[went, saw, cigar, shaped, object, high, sun, ...</td>\n",
       "      <td>0.271739</td>\n",
       "      <td>0.000000</td>\n",
       "      <td>inf</td>\n",
       "    </tr>\n",
       "    <tr>\n",
       "      <th>wv</th>\n",
       "      <td>[solid, round, silver, ball, passing, msl, sma...</td>\n",
       "      <td>0.443511</td>\n",
       "      <td>0.023343</td>\n",
       "      <td>19.000000</td>\n",
       "    </tr>\n",
       "  </tbody>\n",
       "</table>\n",
       "</div>"
      ],
      "text/plain": [
       "                                                comments  positive %  \\\n",
       "state                                                                  \n",
       "wy     [stationary, object, horizon, flashing, red, g...    0.328407   \n",
       "de     [moon, sized, object, quot, grew, quot, fill, ...    0.449006   \n",
       "hi     [marine, flying, fighter, attack, aircraft, so...    0.374065   \n",
       "pr     [went, saw, cigar, shaped, object, high, sun, ...    0.271739   \n",
       "wv     [solid, round, silver, ball, passing, msl, sma...    0.443511   \n",
       "\n",
       "       negative %  sentiment ratio  \n",
       "state                               \n",
       "wy       0.000000              inf  \n",
       "de       0.000000              inf  \n",
       "hi       0.000000              inf  \n",
       "pr       0.000000              inf  \n",
       "wv       0.023343        19.000000  "
      ]
     },
     "execution_count": 305,
     "metadata": {},
     "output_type": "execute_result"
    }
   ],
   "source": [
    "cm.sort_values('sentiment ratio', ascending=False).head()"
   ]
  },
  {
   "cell_type": "markdown",
   "metadata": {},
   "source": [
    "### There are four states that have total positive describtions on UFO and WEST VIRGINIA has 19 times (the highest) positive comments than negative ones."
   ]
  },
  {
   "cell_type": "code",
   "execution_count": 303,
   "metadata": {},
   "outputs": [
    {
     "data": {
      "text/plain": [
       "comments           [round, orange, would, say, polished, metal, k...\n",
       "positive %                                                  0.326383\n",
       "negative %                                                 0.0650484\n",
       "sentiment ratio                                              5.01754\n",
       "Name: ca, dtype: object"
      ]
     },
     "execution_count": 303,
     "metadata": {},
     "output_type": "execute_result"
    }
   ],
   "source": [
    "cm.loc['ca']"
   ]
  },
  {
   "cell_type": "markdown",
   "metadata": {},
   "source": [
    "### California people generally have postive comments on UFOs"
   ]
  },
  {
   "cell_type": "markdown",
   "metadata": {},
   "source": [
    "### 3. What is the average length of UFO sightings across the U.S. states?"
   ]
  },
  {
   "cell_type": "code",
   "execution_count": 304,
   "metadata": {},
   "outputs": [],
   "source": [
    "# find out all records that has state data but not country data in US\n",
    "#data[(data['country'].isnull()) & (data['state'].isin(us_states))][['state','country']]"
   ]
  },
  {
   "cell_type": "code",
   "execution_count": 203,
   "metadata": {},
   "outputs": [
    {
     "data": {
      "text/html": [
       "<div>\n",
       "<style>\n",
       "    .dataframe thead tr:only-child th {\n",
       "        text-align: right;\n",
       "    }\n",
       "\n",
       "    .dataframe thead th {\n",
       "        text-align: left;\n",
       "    }\n",
       "\n",
       "    .dataframe tbody tr th {\n",
       "        vertical-align: top;\n",
       "    }\n",
       "</style>\n",
       "<table border=\"1\" class=\"dataframe\">\n",
       "  <thead>\n",
       "    <tr style=\"text-align: right;\">\n",
       "      <th></th>\n",
       "      <th>duration (seconds)</th>\n",
       "    </tr>\n",
       "    <tr>\n",
       "      <th>state</th>\n",
       "      <th></th>\n",
       "    </tr>\n",
       "  </thead>\n",
       "  <tbody>\n",
       "    <tr>\n",
       "      <th>ak</th>\n",
       "      <td>4231.830508</td>\n",
       "    </tr>\n",
       "    <tr>\n",
       "      <th>al</th>\n",
       "      <td>1393.408828</td>\n",
       "    </tr>\n",
       "    <tr>\n",
       "      <th>ar</th>\n",
       "      <td>100867.138889</td>\n",
       "    </tr>\n",
       "    <tr>\n",
       "      <th>az</th>\n",
       "      <td>5949.009338</td>\n",
       "    </tr>\n",
       "    <tr>\n",
       "      <th>ca</th>\n",
       "      <td>3928.781072</td>\n",
       "    </tr>\n",
       "    <tr>\n",
       "      <th>co</th>\n",
       "      <td>3024.394751</td>\n",
       "    </tr>\n",
       "    <tr>\n",
       "      <th>ct</th>\n",
       "      <td>13089.214928</td>\n",
       "    </tr>\n",
       "    <tr>\n",
       "      <th>dc</th>\n",
       "      <td>1161.224545</td>\n",
       "    </tr>\n",
       "    <tr>\n",
       "      <th>de</th>\n",
       "      <td>868.904372</td>\n",
       "    </tr>\n",
       "    <tr>\n",
       "      <th>fl</th>\n",
       "      <td>13504.459262</td>\n",
       "    </tr>\n",
       "    <tr>\n",
       "      <th>ga</th>\n",
       "      <td>7968.701633</td>\n",
       "    </tr>\n",
       "    <tr>\n",
       "      <th>hi</th>\n",
       "      <td>19267.543909</td>\n",
       "    </tr>\n",
       "    <tr>\n",
       "      <th>ia</th>\n",
       "      <td>949.626591</td>\n",
       "    </tr>\n",
       "    <tr>\n",
       "      <th>id</th>\n",
       "      <td>968.556498</td>\n",
       "    </tr>\n",
       "    <tr>\n",
       "      <th>il</th>\n",
       "      <td>877.362219</td>\n",
       "    </tr>\n",
       "    <tr>\n",
       "      <th>in</th>\n",
       "      <td>3094.797763</td>\n",
       "    </tr>\n",
       "    <tr>\n",
       "      <th>ks</th>\n",
       "      <td>1514.714395</td>\n",
       "    </tr>\n",
       "    <tr>\n",
       "      <th>ky</th>\n",
       "      <td>4205.386761</td>\n",
       "    </tr>\n",
       "    <tr>\n",
       "      <th>la</th>\n",
       "      <td>11481.575251</td>\n",
       "    </tr>\n",
       "    <tr>\n",
       "      <th>ma</th>\n",
       "      <td>1312.187776</td>\n",
       "    </tr>\n",
       "    <tr>\n",
       "      <th>md</th>\n",
       "      <td>833.780790</td>\n",
       "    </tr>\n",
       "    <tr>\n",
       "      <th>me</th>\n",
       "      <td>3066.431122</td>\n",
       "    </tr>\n",
       "    <tr>\n",
       "      <th>mi</th>\n",
       "      <td>3885.088653</td>\n",
       "    </tr>\n",
       "    <tr>\n",
       "      <th>mn</th>\n",
       "      <td>1411.120564</td>\n",
       "    </tr>\n",
       "    <tr>\n",
       "      <th>mo</th>\n",
       "      <td>1144.388198</td>\n",
       "    </tr>\n",
       "    <tr>\n",
       "      <th>ms</th>\n",
       "      <td>8784.190361</td>\n",
       "    </tr>\n",
       "    <tr>\n",
       "      <th>mt</th>\n",
       "      <td>2148.723529</td>\n",
       "    </tr>\n",
       "    <tr>\n",
       "      <th>nc</th>\n",
       "      <td>1281.831648</td>\n",
       "    </tr>\n",
       "    <tr>\n",
       "      <th>nd</th>\n",
       "      <td>1105.405797</td>\n",
       "    </tr>\n",
       "    <tr>\n",
       "      <th>ne</th>\n",
       "      <td>1063.565432</td>\n",
       "    </tr>\n",
       "    <tr>\n",
       "      <th>nh</th>\n",
       "      <td>2141.602804</td>\n",
       "    </tr>\n",
       "    <tr>\n",
       "      <th>nj</th>\n",
       "      <td>5299.992341</td>\n",
       "    </tr>\n",
       "    <tr>\n",
       "      <th>nm</th>\n",
       "      <td>5185.816675</td>\n",
       "    </tr>\n",
       "    <tr>\n",
       "      <th>nv</th>\n",
       "      <td>2926.016519</td>\n",
       "    </tr>\n",
       "    <tr>\n",
       "      <th>ny</th>\n",
       "      <td>2914.711572</td>\n",
       "    </tr>\n",
       "    <tr>\n",
       "      <th>oh</th>\n",
       "      <td>1576.187773</td>\n",
       "    </tr>\n",
       "    <tr>\n",
       "      <th>ok</th>\n",
       "      <td>14929.384204</td>\n",
       "    </tr>\n",
       "    <tr>\n",
       "      <th>or</th>\n",
       "      <td>1064.210450</td>\n",
       "    </tr>\n",
       "    <tr>\n",
       "      <th>pa</th>\n",
       "      <td>3990.113091</td>\n",
       "    </tr>\n",
       "    <tr>\n",
       "      <th>pr</th>\n",
       "      <td>881.515152</td>\n",
       "    </tr>\n",
       "    <tr>\n",
       "      <th>ri</th>\n",
       "      <td>1811.881034</td>\n",
       "    </tr>\n",
       "    <tr>\n",
       "      <th>sc</th>\n",
       "      <td>1102.498885</td>\n",
       "    </tr>\n",
       "    <tr>\n",
       "      <th>sd</th>\n",
       "      <td>2608.640306</td>\n",
       "    </tr>\n",
       "    <tr>\n",
       "      <th>tn</th>\n",
       "      <td>1610.461526</td>\n",
       "    </tr>\n",
       "    <tr>\n",
       "      <th>tx</th>\n",
       "      <td>2371.343283</td>\n",
       "    </tr>\n",
       "    <tr>\n",
       "      <th>ut</th>\n",
       "      <td>4739.033647</td>\n",
       "    </tr>\n",
       "    <tr>\n",
       "      <th>va</th>\n",
       "      <td>9862.555276</td>\n",
       "    </tr>\n",
       "    <tr>\n",
       "      <th>vt</th>\n",
       "      <td>1077.587948</td>\n",
       "    </tr>\n",
       "    <tr>\n",
       "      <th>wa</th>\n",
       "      <td>13545.595628</td>\n",
       "    </tr>\n",
       "    <tr>\n",
       "      <th>wi</th>\n",
       "      <td>2047.964966</td>\n",
       "    </tr>\n",
       "    <tr>\n",
       "      <th>wv</th>\n",
       "      <td>6239.355967</td>\n",
       "    </tr>\n",
       "    <tr>\n",
       "      <th>wy</th>\n",
       "      <td>1841.629273</td>\n",
       "    </tr>\n",
       "  </tbody>\n",
       "</table>\n",
       "</div>"
      ],
      "text/plain": [
       "       duration (seconds)\n",
       "state                    \n",
       "ak            4231.830508\n",
       "al            1393.408828\n",
       "ar          100867.138889\n",
       "az            5949.009338\n",
       "ca            3928.781072\n",
       "co            3024.394751\n",
       "ct           13089.214928\n",
       "dc            1161.224545\n",
       "de             868.904372\n",
       "fl           13504.459262\n",
       "ga            7968.701633\n",
       "hi           19267.543909\n",
       "ia             949.626591\n",
       "id             968.556498\n",
       "il             877.362219\n",
       "in            3094.797763\n",
       "ks            1514.714395\n",
       "ky            4205.386761\n",
       "la           11481.575251\n",
       "ma            1312.187776\n",
       "md             833.780790\n",
       "me            3066.431122\n",
       "mi            3885.088653\n",
       "mn            1411.120564\n",
       "mo            1144.388198\n",
       "ms            8784.190361\n",
       "mt            2148.723529\n",
       "nc            1281.831648\n",
       "nd            1105.405797\n",
       "ne            1063.565432\n",
       "nh            2141.602804\n",
       "nj            5299.992341\n",
       "nm            5185.816675\n",
       "nv            2926.016519\n",
       "ny            2914.711572\n",
       "oh            1576.187773\n",
       "ok           14929.384204\n",
       "or            1064.210450\n",
       "pa            3990.113091\n",
       "pr             881.515152\n",
       "ri            1811.881034\n",
       "sc            1102.498885\n",
       "sd            2608.640306\n",
       "tn            1610.461526\n",
       "tx            2371.343283\n",
       "ut            4739.033647\n",
       "va            9862.555276\n",
       "vt            1077.587948\n",
       "wa           13545.595628\n",
       "wi            2047.964966\n",
       "wv            6239.355967\n",
       "wy            1841.629273"
      ]
     },
     "execution_count": 203,
     "metadata": {},
     "output_type": "execute_result"
    }
   ],
   "source": [
    "a =data[data['state'].isin(us_states)][['duration (seconds)','state']]\n",
    "a['duration (seconds)']=pd.to_numeric(a['duration (seconds)'],errors='coerce')\n",
    "a.groupby('state').mean()"
   ]
  },
  {
   "cell_type": "markdown",
   "metadata": {},
   "source": [
    "# Reference\n",
    "https://pandas.pydata.org/pandas-docs/stable/generated/pandas.Series.isin.html\n",
    "\n",
    "https://docs.python.org/2/howto/regex.html\n",
    "\n",
    "\n"
   ]
  },
  {
   "cell_type": "code",
   "execution_count": null,
   "metadata": {
    "collapsed": true
   },
   "outputs": [],
   "source": []
  }
 ],
 "metadata": {
  "kernelspec": {
   "display_name": "Python 3",
   "language": "python",
   "name": "python3"
  },
  "language_info": {
   "codemirror_mode": {
    "name": "ipython",
    "version": 3
   },
   "file_extension": ".py",
   "mimetype": "text/x-python",
   "name": "python",
   "nbconvert_exporter": "python",
   "pygments_lexer": "ipython3",
   "version": "3.6.3"
  },
  "toc": {
   "nav_menu": {},
   "number_sections": true,
   "sideBar": true,
   "skip_h1_title": false,
   "title_cell": "Table of Contents",
   "title_sidebar": "Contents",
   "toc_cell": false,
   "toc_position": {},
   "toc_section_display": "block",
   "toc_window_display": false
  },
  "varInspector": {
   "cols": {
    "lenName": 16,
    "lenType": 16,
    "lenVar": 40
   },
   "kernels_config": {
    "python": {
     "delete_cmd_postfix": "",
     "delete_cmd_prefix": "del ",
     "library": "var_list.py",
     "varRefreshCmd": "print(var_dic_list())"
    },
    "r": {
     "delete_cmd_postfix": ") ",
     "delete_cmd_prefix": "rm(",
     "library": "var_list.r",
     "varRefreshCmd": "cat(var_dic_list()) "
    }
   },
   "types_to_exclude": [
    "module",
    "function",
    "builtin_function_or_method",
    "instance",
    "_Feature"
   ],
   "window_display": false
  }
 },
 "nbformat": 4,
 "nbformat_minor": 2
}
