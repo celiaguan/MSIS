{
 "cells": [
  {
   "cell_type": "markdown",
   "metadata": {
    "ExecuteTime": {
     "end_time": "2018-01-23T04:31:51.255588Z",
     "start_time": "2018-01-23T04:31:51.252836Z"
    }
   },
   "source": [
    "# Immigration, the stock market, and GDP"
   ]
  },
  {
   "cell_type": "markdown",
   "metadata": {},
   "source": [
    "The objective of this project is to practice working with Pandas Dataframes. To successfully complete this homework, you may use any resources available to you. \n",
    "\n",
    "Answer the following question: What has a higher correlation with the GDP in the US: stock market returns or immigration?\n",
    "\n",
    "You need to accomplish the following tasks:\n",
    "1. Install the [wbdata](http://wbdata.readthedocs.io/en/latest/) package for API access to Worldbank data.\n",
    "2. Explore the databases `Population estimates and projections`, `Global Financial Development`, and `World Development Indicators`.\n",
    "3. Get the data on `GDP per capita growth (annual %)` as a dataframe.\n",
    "4. Get the data on `Net immigration` as a dataframe (Make sure that you also have a percentage value for this). \n",
    "5. Get the data on `Stock market return (%, year-on-year)` as a dataframe.\n",
    "5. Explore the data and note the issues. \n",
    "5. Clean and combine the data.\n",
    "6. What is the correlation between the GDP and net immigration and stock market returns. "
   ]
  },
  {
   "cell_type": "code",
   "execution_count": 155,
   "metadata": {
    "ExecuteTime": {
     "end_time": "2018-01-23T22:19:47.415963Z",
     "start_time": "2018-01-23T22:19:47.409878Z"
    },
    "collapsed": true
   },
   "outputs": [],
   "source": [
    "from IPython.core.interactiveshell import InteractiveShell\n",
    "InteractiveShell.ast_node_interactivity = \"all\""
   ]
  },
  {
   "cell_type": "code",
   "execution_count": 156,
   "metadata": {},
   "outputs": [
    {
     "name": "stdout",
     "output_type": "stream",
     "text": [
      "Populating the interactive namespace from numpy and matplotlib\n"
     ]
    }
   ],
   "source": [
    "import pandas as pd\n",
    "import wbdata\n",
    "import seaborn as sns\n",
    "%pylab inline"
   ]
  },
  {
   "cell_type": "code",
   "execution_count": 100,
   "metadata": {
    "collapsed": true
   },
   "outputs": [
    {
     "name": "stdout",
     "output_type": "stream",
     "text": [
      "11\tAfrica Development Indicators\n",
      "36\tStatistical Capacity Indicators\n",
      "31\tCountry Policy and Institutional Assessment\n",
      "41\tCountry Partnership Strategy for India (FY2013 - 17)\n",
      "1 \tDoing Business\n",
      "30\tExporter Dynamics Database ��� Indicators at Country-Year Level\n",
      "12\tEducation Statistics\n",
      "13\tEnterprise Surveys\n",
      "28\tGlobal Financial Inclusion\n",
      "33\tG20 Financial Inclusion Indicators\n",
      "14\tGender Statistics\n",
      "15\tGlobal Economic Monitor\n",
      "27\tGlobal Economic Prospects\n",
      "32\tGlobal Financial Development\n",
      "21\tGlobal Economic Monitor Commodities\n",
      "55\tCommodity Prices- History and Projections\n",
      "34\tGlobal Partnership for Education\n",
      "29\tThe Atlas of Social Protection: Indicators of Resilience and Equity\n",
      "16\tHealth Nutrition and Population Statistics\n",
      "39\tHealth Nutrition and Population Statistics by Wealth Quintile\n",
      "40\tPopulation estimates and projections\n",
      "18\tIDA Results Measurement System\n",
      "45\tIndonesia Database for Policy and Economic Research\n",
      "6 \tInternational Debt Statistics\n",
      "54\tJoint External Debt Hub\n",
      "25\tJobs\n",
      "37\tLAC Equity Lab\n",
      "19\tMillennium Development Goals\n",
      "24\tPoverty and Equity\n",
      "20\tQuarterly Public Sector Debt\n",
      "23\tQuarterly External Debt Statistics GDDS\n",
      "22\tQuarterly External Debt Statistics SDDS\n",
      "44\tReadiness for Investment in Sustainable Energy\n",
      "46\tSustainable Development Goals \n",
      "35\tSustainable Energy for All\n",
      "5 \tSubnational Malnutrition Database\n",
      "38\tSubnational Poverty\n",
      "50\tSubnational Population\n",
      "58\tUniversal Health Coverage\n",
      "43\tWealth accounting\n",
      "57\tWDI Database Archives\n",
      "2 \tWorld Development Indicators\n",
      "3 \tWorldwide Governance Indicators\n"
     ]
    }
   ],
   "source": [
    "wbdata.get_source()"
   ]
  },
  {
   "cell_type": "code",
   "execution_count": 101,
   "metadata": {
    "collapsed": true
   },
   "outputs": [
    {
     "name": "stdout",
     "output_type": "stream",
     "text": [
      "SH.DYN.NMRT      \tMortality rate, neonatal (per 1,000 live births)\n",
      "SH.DYN.MORT.MA   \tMortality rate, under-5, male (per 1,000 live births)\n",
      "SH.DYN.MORT.FE   \tMortality rate, under-5, female (per 1,000 live births)\n",
      "SH.DYN.MORT      \tMortality rate, under-5 (per 1,000 live births)\n",
      "SH.DYN.0514      \tProbability of dying at age 5-14 years (per 1,000 children age 5)\n",
      "SH.DTH.NMRT      \tNumber of neonatal deaths\n",
      "SH.DTH.MORT      \tNumber of under-five deaths\n",
      "SH.DTH.IMRT      \tNumber of infant deaths\n",
      "SH.DTH.0514      \tNumber of deaths ages 5-14 years\n",
      "SP.URB.TOTL.IN.ZS\tUrban population (% of total)\n",
      "SP.URB.TOTL      \tUrban population\n",
      "SP.URB.GROW      \tUrban population growth (annual %)\n",
      "SP.RUR.TOTL.ZS   \tRural population (% of total population)\n",
      "SP.RUR.TOTL.ZG   \tRural population growth (annual %)\n",
      "SP.RUR.TOTL      \tRural population\n",
      "SP.POP.TOTL.MA.ZS\tPopulation, male (% of total)\n",
      "SP.POP.TOTL.MA.IN\tPopulation, male\n",
      "SP.POP.TOTL.FE.ZS\tPopulation, female (% of total)\n",
      "SP.POP.TOTL.FE.IN\tPopulation, female\n",
      "SP.POP.TOTL      \tPopulation, total\n",
      "SP.POP.GROW      \tPopulation growth (annual %)\n",
      "SP.POP.DPND.YG   \tAge dependency ratio, young (% of working-age population)\n",
      "SP.POP.DPND.OL   \tAge dependency ratio, old (% of working-age population)\n",
      "SP.POP.DPND      \tAge dependency ratio (% of working-age population)\n",
      "SP.POP.BRTH.MF   \tSex ratio at birth (male births per female births)\n",
      "SP.POP.AG25.MA.IN\tAge population, age 25, male, interpolated\n",
      "SP.POP.AG25.FE.IN\tAge population, age 25, female, interpolated\n",
      "SP.POP.AG24.MA.IN\tAge population, age 24, male, interpolated\n",
      "SP.POP.AG24.FE.IN\tAge population, age 24, female, interpolated\n",
      "SP.POP.AG23.MA.IN\tAge population, age 23, male, interpolated\n",
      "SP.POP.AG23.FE.IN\tAge population, age 23, female, interpolated\n",
      "SP.POP.AG22.MA.IN\tAge population, age 22, male, interpolated\n",
      "SP.POP.AG22.FE.IN\tAge population, age 22, female, interpolated\n",
      "SP.POP.AG21.MA.IN\tAge population, age 21, male, interpolated\n",
      "SP.POP.AG21.FE.IN\tAge population, age 21, female, interpolated\n",
      "SP.POP.AG20.MA.IN\tAge population, age 20, male, interpolated\n",
      "SP.POP.AG20.FE.IN\tAge population, age 20, female, interpolated\n",
      "SP.POP.AG19.MA.IN\tAge population, age 19, male, interpolated\n",
      "SP.POP.AG19.FE.IN\tAge population, age 19, female, interpolated\n",
      "SP.POP.AG18.MA.IN\tAge population, age 18, male, interpolated\n",
      "SP.POP.AG18.FE.IN\tAge population, age 18, female, interpolated\n",
      "SP.POP.AG17.MA.IN\tAge population, age 17, male, interpolated\n",
      "SP.POP.AG17.FE.IN\tAge population, age 17, female, interpolated\n",
      "SP.POP.AG16.MA.IN\tAge population, age 16, male, interpolated\n",
      "SP.POP.AG16.FE.IN\tAge population, age 16, female, interpolated\n",
      "SP.POP.AG15.MA.IN\tAge population, age 15, male, interpolated\n",
      "SP.POP.AG15.FE.IN\tAge population, age 15, female, interpolated\n",
      "SP.POP.AG14.MA.IN\tAge population, age 14, male\n",
      "SP.POP.AG14.FE.IN\tAge population, age 14, female, interpolated\n",
      "SP.POP.AG13.MA.IN\tAge population, age 13, male\n",
      "SP.POP.AG13.FE.IN\tAge population, age 13, female, interpolated\n",
      "SP.POP.AG12.MA.IN\tAge population, age 12, male\n",
      "SP.POP.AG12.FE.IN\tAge population, age 12, female, interpolated\n",
      "SP.POP.AG11.MA.IN\tAge population, age 11, male\n",
      "SP.POP.AG11.FE.IN\tAge population, age 11, female, interpolated\n",
      "SP.POP.AG10.MA.IN\tAge population, age 10, male\n",
      "SP.POP.AG10.FE.IN\tAge population, age 10, female, interpolated\n",
      "SP.POP.AG09.MA.IN\tAge population, age 09, male, interpolated\n",
      "SP.POP.AG09.FE.IN\tAge population, age 09, female, interpolated\n",
      "SP.POP.AG08.MA.IN\tAge population, age 08, male, interpolated\n",
      "SP.POP.AG08.FE.IN\tAge population, age 08, female, interpolated\n",
      "SP.POP.AG07.MA.IN\tAge population, age 07, male, interpolated\n",
      "SP.POP.AG07.FE.IN\tAge population, age 07, female, interpolated\n",
      "SP.POP.AG06.MA.IN\tAge population, age 06, male, interpolated\n",
      "SP.POP.AG06.FE.IN\tAge population, age 06, female, interpolated\n",
      "SP.POP.AG05.MA.IN\tAge population, age 05, male, interpolated\n",
      "SP.POP.AG05.FE.IN\tAge population, age 05, female, interpolated\n",
      "SP.POP.AG04.MA.IN\tAge population, age 04, male, interpolated\n",
      "SP.POP.AG04.FE.IN\tAge population, age 04, female, interpolated\n",
      "SP.POP.AG03.MA.IN\tAge population, age 03, male, interpolated\n",
      "SP.POP.AG03.FE.IN\tAge population, age 03, female, interpolated\n",
      "SP.POP.AG02.MA.IN\tAge population, age 02, male, interpolated\n",
      "SP.POP.AG02.FE.IN\tAge population, age 02, female, interpolated\n",
      "SP.POP.AG01.MA.IN\tAge population, age 01, male, interpolated\n",
      "SP.POP.AG01.FE.IN\tAge population, age 01, female, interpolated\n",
      "SP.POP.AG00.MA.IN\tAge population, age 0, male, interpolated\n",
      "SP.POP.AG00.FE.IN\tAge population, age 0, female, interpolated\n",
      "SP.POP.80UP.MA.5Y\tPopulation ages 80 and above, male (% of male population)\n",
      "SP.POP.80UP.MA   \tMale population 80+ \n",
      "SP.POP.80UP.FE.5Y\tPopulation ages 80 and above, female (% of female population)\n",
      "SP.POP.80UP.FE   \tPopulation ages 80 and above, female\n",
      "SP.POP.7579.MA.5Y\tPopulation ages 75-79, male (% of male population)\n",
      "SP.POP.7579.MA   \tMale population 75-79\n",
      "SP.POP.7579.FE.5Y\tPopulation ages 75-79, female (% of female population)\n",
      "SP.POP.7579.FE   \tFemale population 75-79\n",
      "SP.POP.7074.MA.5Y\tPopulation ages 70-74, male (% of male population)\n",
      "SP.POP.7074.MA   \tMale population 70-74\n",
      "SP.POP.7074.FE.5Y\tPopulation ages 70-74, female (% of female population)\n",
      "SP.POP.7074.FE   \tFemale population 70-74 \n",
      "SP.POP.65UP.TO.ZS\tPopulation ages 65 and above (% of total)\n",
      "SP.POP.65UP.TO   \tTotal Population for Age 65 and above (only 2005 and 2010) (in number of people)\n",
      "SP.POP.65UP.MA.ZS\tPopulation ages 65 and above, male (% of total)\n",
      "SP.POP.65UP.MA.IN\tPopulation ages 65 and above, male\n",
      "SP.POP.65UP.FE.ZS\tPopulation ages 65 and above, female (% of total)\n",
      "SP.POP.65UP.FE.IN\tPopulation ages 65 and above, female\n",
      "SP.POP.6569.MA.5Y\tPopulation ages 65-69, male (% of male population)\n",
      "SP.POP.6569.MA   \tMale population 65-69\n",
      "SP.POP.6569.FE.5Y\tPopulation ages 65-69, female (% of female population)\n",
      "SP.POP.6569.FE   \tFemale population 65-69\n",
      "SP.POP.6064.MA.5Y\tPopulation ages 60-64, male (% of male population)\n",
      "SP.POP.6064.MA   \tMale population 60-64\n",
      "SP.POP.6064.FE.5Y\tPopulation ages 60-64, female (% of female population)\n",
      "SP.POP.6064.FE   \tFemale population 60-64\n",
      "SP.POP.5559.MA.5Y\tPopulation ages 55-59, male (% of male population)\n",
      "SP.POP.5559.MA   \tMale population 55-59\n",
      "SP.POP.5559.FE.5Y\tPopulation ages 55-59, female (% of female population)\n",
      "SP.POP.5559.FE   \tFemale population 55-59\n",
      "SP.POP.5054.MA.5Y\tPopulation ages 50-54, male (% of male population)\n",
      "SP.POP.5054.MA   \tMale population 50-54\n",
      "SP.POP.5054.FE.5Y\tPopulation ages 50-54, female (% of female population)\n",
      "SP.POP.5054.FE   \tFemale population 50-54\n",
      "SP.POP.4549.MA.5Y\tPopulation ages 45-49, male (% of male population)\n",
      "SP.POP.4549.MA   \tMale population 45-49\n",
      "SP.POP.4549.FE.5Y\tPopulation ages 45-49, female (% of female population)\n",
      "SP.POP.4549.FE   \tFemale population 45-49\n",
      "SP.POP.4044.MA.5Y\tPopulation ages 40-44, male (% of male population)\n",
      "SP.POP.4044.MA   \tMale population 40-44\n",
      "SP.POP.4044.FE.5Y\tPopulation ages 40-44, female (% of female population)\n",
      "SP.POP.4044.FE   \tFemale population 40-44\n",
      "SP.POP.3539.MA.5Y\tPopulation ages 35-39, male (% of male population)\n",
      "SP.POP.3539.MA   \tMale population 35-39\n",
      "SP.POP.3539.FE.5Y\tPopulation ages 35-39, female (% of female population)\n",
      "SP.POP.3539.FE   \tFemale population 35-39\n",
      "SP.POP.3034.MA.5Y\tPopulation ages 30-34, male (% of male population)\n",
      "SP.POP.3034.MA   \tMale population 30-34\n",
      "SP.POP.3034.FE.5Y\tPopulation ages 30-34, female (% of female population)\n",
      "SP.POP.3034.FE   \tFemale population 30-34\n",
      "SP.POP.2529.MA.5Y\tPopulation ages 25-29, male (% of male population)\n",
      "SP.POP.2529.MA   \tMale population 25-29\n",
      "SP.POP.2529.FE.5Y\tPopulation ages 25-29, female (% of female population)\n",
      "SP.POP.2529.FE   \tFemale population 25-29\n",
      "SP.POP.2024.MA.5Y\tPopulation ages 20-24, male (% of male population)\n",
      "SP.POP.2024.MA   \tMale population 20-24\n",
      "SP.POP.2024.FE.5Y\tPopulation ages 20-24, female (% of female population)\n",
      "SP.POP.2024.FE   \tFemale population 20-24\n",
      "SP.POP.1564.TO.ZS\tPopulation ages 15-64 (% of total)\n",
      "SP.POP.1564.TO   \tPopulation ages 15-64, total\n",
      "SP.POP.1564.MA.ZS\tPopulation ages 15-64, male (% of total)\n",
      "SP.POP.1564.MA.IN\tPopulation ages 15-64, male\n",
      "SP.POP.1564.FE.ZS\tPopulation ages 15-64, female (% of total)\n",
      "SP.POP.1564.FE.IN\tPopulation ages 15-64, female\n",
      "SP.POP.1519.MA.5Y\tPopulation ages 15-19, male (% of male population)\n",
      "SP.POP.1519.MA   \tMale population 15-19\n",
      "SP.POP.1519.FE.5Y\tPopulation ages 15-19, female (% of female population)\n",
      "SP.POP.1519.FE   \tFemale population 15-19\n",
      "SP.POP.1014.MA.5Y\tPopulation ages 10-14, male (% of male population)\n",
      "SP.POP.1014.MA   \tMale population 10-14\n",
      "SP.POP.1014.FE.5Y\tPopulation ages 10-14, female (% of female population)\n",
      "SP.POP.1014.FE   \tFemale population 10-14\n",
      "SP.POP.0509.MA.5Y\tPopulation ages 5-9, male (% of male population)\n",
      "SP.POP.0509.MA   \tMale population 05-09\n",
      "SP.POP.0509.FE.5Y\tPopulation ages 5-9, female (% of female population)\n",
      "SP.POP.0509.FE   \tFemale population 05-09\n",
      "SP.POP.0014.TO.ZS\tPopulation ages 0-14 (% of total)\n",
      "SP.POP.0014.TO   \tPopulation, ages 0-14, total\n",
      "SP.POP.0014.MA.ZS\tPopulation ages 0-14, male (% of total)\n",
      "SP.POP.0014.MA.IN\tPopulation, ages 0-14, male\n",
      "SP.POP.0014.FE.ZS\tPopulation ages 0-14, female (% of total)\n",
      "SP.POP.0014.FE.IN\tPopulation ages 0-14, female\n",
      "SP.POP.0004.MA.5Y\tPopulation ages 0-4, male (% of male population)\n",
      "SP.POP.0004.MA   \tMale population 00-04\n",
      "SP.POP.0004.FE.5Y\tPopulation ages 0-4, female (% of female population)\n",
      "SP.POP.0004.FE   \tFemale population 00-04\n",
      "SP.DYN.TFRT.IN   \tFertility rate, total (births per woman)\n",
      "SP.DYN.LE00.MA.IN\tLife expectancy at birth, male (years)\n",
      "SP.DYN.LE00.IN   \tLife expectancy at birth, total (years)\n",
      "SP.DYN.LE00.FE.IN\tLife expectancy at birth, female (years)\n",
      "SP.DYN.IMRT.MA.IN\tMortality rate, infant, male (per 1,000 live births)\n",
      "SP.DYN.IMRT.IN   \tMortality rate, infant (per 1,000 live births)\n",
      "SP.DYN.IMRT.FE.IN\tMortality rate, infant, female (per 1,000 live births)\n",
      "SP.DYN.CDRT.IN   \tDeath rate, crude (per 1,000 people)\n",
      "SP.DYN.CBRT.IN   \tBirth rate, crude (per 1,000 people)\n",
      "SP.DYN.AMRT.MA   \tMortality rate, adult, male (per 1,000 male adults)\n",
      "SP.DYN.AMRT.FE   \tMortality rate, adult, female (per 1,000 female adults)\n",
      "SM.POP.NETM      \tNet migration\n"
     ]
    }
   ],
   "source": [
    "wbdata.get_indicator(source=40)"
   ]
  },
  {
   "cell_type": "code",
   "execution_count": 102,
   "metadata": {
    "collapsed": true
   },
   "outputs": [
    {
     "name": "stdout",
     "output_type": "stream",
     "text": [
      "SP.POP.TOTL   \tPopulation, total\n",
      "NY.GNP.MKTP.CD\tGNI (current US$)\n",
      "NY.GDP.PCAP.KD\tGDP per capita (constant 2010 US$)\n",
      "NY.GDP.PCAP.CD\tGDP per capita (current US$)\n",
      "NY.GDP.MKTP.CD\tGDP (current US$)\n",
      "GFDD.SM.01    \tStock price volatility\n",
      "GFDD.SI.07    \tProvisions to nonperforming loans (%)\n",
      "GFDD.SI.06    \tLiquid assets to deposits and short term funding (%)\n",
      "GFDD.SI.05    \tBank regulatory capital to risk-weighted assets (%) \n",
      "GFDD.SI.04    \tBank credit to bank deposits (%)\n",
      "GFDD.SI.03    \tBank capital to total assets (%)\n",
      "GFDD.SI.02    \tBank nonperforming loans to gross loans (%)\n",
      "GFDD.SI.01    \tBank Z-score\n",
      "GFDD.OM.02    \tStock market return (%, year-on-year)\n",
      "GFDD.OM.01    \tNumber of listed companies per 1,000,000 people \n",
      "GFDD.OI.19    \tBanking crisis dummy (1=banking crisis, 0=none)\n",
      "GFDD.OI.18    \tTotal factoring volume to GDP (%)\n",
      "GFDD.OI.17    \tGlobal leasing volume to GDP (%)\n",
      "GFDD.OI.16    \tForeign bank assets among total bank assets (%)\n",
      "GFDD.OI.15    \tForeign banks among total banks (%)\n",
      "GFDD.OI.14    \tConsolidated foreign claims of BIS reporting banks to GDP (%)\n",
      "GFDD.OI.13    \tRemittance inflows to GDP (%)\n",
      "GFDD.OI.12    \tExternal loans and deposits of reporting banks vis-��-vis all sectors (% of domestic bank deposits)\n",
      "GFDD.OI.11    \tExternal loans and deposits of reporting banks vis-��-vis the nonbanking sectors (% of domestic bank deposits)\n",
      "GFDD.OI.10    \tExternal loans and deposits of reporting banks vis-��-vis the banking sector (% of domestic bank deposits)\n",
      "GFDD.OI.09    \tLoans from nonresident banks (amounts outstanding) to GDP (%)\n",
      "GFDD.OI.08    \tLoans from nonresident banks (net) to GDP (%)\n",
      "GFDD.OI.07    \tLiquid liabilities in millions USD (2000 constant)\n",
      "GFDD.OI.06    \t5-bank asset concentration\n",
      "GFDD.OI.05    \tBoone indicator\n",
      "GFDD.OI.04    \tLerner index\n",
      "GFDD.OI.03    \tH-statistic\n",
      "GFDD.OI.02    \tBank deposits to GDP (%)\n",
      "GFDD.OI.01    \tBank concentration (%)\n",
      "GFDD.OE.02    \tAverage Consumer Price Index (2010=100)\n",
      "GFDD.OE.01    \tConsumer price index (2010=100, December)\n",
      "GFDD.EM.01    \tStock market turnover ratio (%)\n",
      "GFDD.EI.10    \tBank return on equity (%, before tax)\n",
      "GFDD.EI.09    \tBank return on assets (%, before tax)\n",
      "GFDD.EI.08    \tCredit to government and state owned enterprises to GDP (%)\n",
      "GFDD.EI.07    \tBank cost to income ratio (%)\n",
      "GFDD.EI.06    \tBank return on equity (%, after tax)\n",
      "GFDD.EI.05    \tBank return on assets (%, after tax)\n",
      "GFDD.EI.04    \tBank overhead costs to total assets (%)\n",
      "GFDD.EI.03    \tBank noninterest income to total income (%)\n",
      "GFDD.EI.02    \tBank lending-deposit spread\n",
      "GFDD.EI.01    \tBank net interest margin (%)\n",
      "GFDD.DM.10    \tGross portfolio debt liabilities to GDP (%)\n",
      "GFDD.DM.09    \tGross portfolio equity assets to GDP (%)\n",
      "GFDD.DM.08    \tGross portfolio equity liabilities to GDP (%)\n",
      "GFDD.DM.07    \tInternational debt issues to GDP (%)\n",
      "GFDD.DM.06    \tOutstanding international public debt securities to GDP (%)\n",
      "GFDD.DM.05    \tOutstanding international private debt securities to GDP (%)\n",
      "GFDD.DM.04    \tOutstanding domestic public debt securities to GDP (%)\n",
      "GFDD.DM.03    \tOutstanding domestic private debt securities to GDP (%)\n",
      "GFDD.DM.02    \tStock market total value traded to GDP (%)\n",
      "GFDD.DM.01    \tStock market capitalization to GDP (%)\n",
      "GFDD.DI.14    \tDomestic credit to private sector (% of GDP)\n",
      "GFDD.DI.13    \tPension fund assets to GDP (%)\n",
      "GFDD.DI.12    \tPrivate credit by deposit money banks and other financial institutions to GDP (%)\n",
      "GFDD.DI.11    \tInsurance company assets to GDP (%)\n",
      "GFDD.DI.10    \tNonlife insurance premium volume to GDP (%)\n",
      "GFDD.DI.09    \tLife insurance premium volume to GDP (%)\n",
      "GFDD.DI.08    \tFinancial system deposits to GDP (%)\n",
      "GFDD.DI.07    \tMutual fund assets to GDP (%)\n",
      "GFDD.DI.06    \tCentral bank assets to GDP (%)\n",
      "GFDD.DI.05    \tLiquid liabilities to GDP (%)\n",
      "GFDD.DI.04    \tDeposit money bank assets to deposit money bank assets and central bank assets (%)\n",
      "GFDD.DI.03    \tNonbank financial institutions��� assets to GDP (%)\n",
      "GFDD.DI.02    \tDeposit money banks' assets to GDP (%)\n",
      "GFDD.DI.01    \tPrivate credit by deposit money banks to GDP (%)\n",
      "GFDD.AM.04    \tInvestments financed by equity or stock sales (%)\n",
      "GFDD.AM.03    \tNonfinancial corporate bonds to total bonds and notes outstanding (%)\n",
      "GFDD.AM.02    \tMarket capitalization excluding top 10 companies to total market capitalization (%)\n",
      "GFDD.AM.01    \tValue traded excluding top 10 traded companies to total value traded (%)\n",
      "GFDD.AI.36    \tFirms identifying access to finance as a major constraint (%)\n",
      "GFDD.AI.35    \tWorking capital financed by banks (%)\n",
      "GFDD.AI.34    \tInvestments financed by banks (%)\n",
      "GFDD.AI.33    \tFirms whose recent loan application was rejected (%)\n",
      "GFDD.AI.32    \tFirms not needing a loan (%)\n",
      "GFDD.AI.31    \tValue of collateral needed for a loan (% of the loan amount)\n",
      "GFDD.AI.30    \tLoans requiring collateral (%)\n",
      "GFDD.AI.29    \tFirms using banks to finance working capital (%)\n",
      "GFDD.AI.28    \tFirms using banks to finance investments (%)\n",
      "GFDD.AI.27    \tFirms with a checking or savings account (%)\n",
      "GFDD.AI.26    \tDepositing/withdrawing at least once in a typical month (% age 15+)\n",
      "GFDD.AI.25    \tATMs per 100,000 adults\n",
      "GFDD.AI.24    \tMobile phone used to send money (% age 15+)\n",
      "GFDD.AI.23    \tMobile phone used to pay bills (% age 15+)\n",
      "GFDD.AI.22    \tElectronic payments used to make payments (% age 15+)\n",
      "GFDD.AI.21    \tDebit card (% age 15+)\n",
      "GFDD.AI.20    \tCredit card (% age 15+)\n",
      "GFDD.AI.19    \tChecks used to make payments (% age 15+)\n",
      "GFDD.AI.18    \tLoan from family or friends in the past year (% age 15+)\n",
      "GFDD.AI.17    \tLoan through store credit in the past year (% age 15+)\n",
      "GFDD.AI.16    \tLoan from an employer in the past year (% age 15+)\n",
      "GFDD.AI.15    \tLoan from a private lender in the past year (% age 15+)\n",
      "GFDD.AI.14    \tLoan in the past year (% age 15+)\n",
      "GFDD.AI.13    \tSaved using a savings club in the past year (% age 15+)\n",
      "GFDD.AI.12    \tSaved any money in the past year (% age 15+)\n",
      "GFDD.AI.11    \tAccount used to receive wages (% age 15+)\n",
      "GFDD.AI.10    \tAccount used to receive remittances (% age 15+)\n",
      "GFDD.AI.09    \tAccount used to receive government payments (% age 15+)\n",
      "GFDD.AI.08    \tAccount used for business purposes (% age 15+)\n",
      "GFDD.AI.07    \tLoan from a financial institution in the past year (% age 15+)\n",
      "GFDD.AI.06    \tSaved at a financial institution in the past year (% age 15+)\n",
      "GFDD.AI.05    \tAccount at a formal financial institution (% age 15+)\n",
      "GFDD.AI.04    \tSmall firms with a bank loan or line of credit (%)\n",
      "GFDD.AI.03    \tFirms with a bank loan or line of credit (%)\n",
      "GFDD.AI.02    \tBank branches per 100,000 adults \n",
      "GFDD.AI.01    \tBank accounts per 1000 adults\n"
     ]
    }
   ],
   "source": [
    "wbdata.get_indicator(source=32)"
   ]
  },
  {
   "cell_type": "code",
   "execution_count": 157,
   "metadata": {},
   "outputs": [
    {
     "name": "stdout",
     "output_type": "stream",
     "text": [
      "NY.GDP.PCAP.KD.ZG\tGDP per capita growth (annual %)\n",
      "NV.AGR.PCAP.KD.ZG\tReal agricultural GDP per capita growth rate (%)\n"
     ]
    }
   ],
   "source": [
    "# search all the indicators that are related to GDP growth\n",
    "wbdata.search_indicators('GDP per capita growth')"
   ]
  },
  {
   "cell_type": "code",
   "execution_count": 158,
   "metadata": {
    "collapsed": true
   },
   "outputs": [],
   "source": [
    "# set country to US\n",
    "country = ['US']\n",
    "# get GDP per capita growth data \n",
    "indicator1 = {'NY.GDP.PCAP.KD.ZG': 'annual % GDP growth'}"
   ]
  },
  {
   "cell_type": "code",
   "execution_count": 159,
   "metadata": {},
   "outputs": [
    {
     "data": {
      "text/html": [
       "<div>\n",
       "<style>\n",
       "    .dataframe thead tr:only-child th {\n",
       "        text-align: right;\n",
       "    }\n",
       "\n",
       "    .dataframe thead th {\n",
       "        text-align: left;\n",
       "    }\n",
       "\n",
       "    .dataframe tbody tr th {\n",
       "        vertical-align: top;\n",
       "    }\n",
       "</style>\n",
       "<table border=\"1\" class=\"dataframe\">\n",
       "  <thead>\n",
       "    <tr style=\"text-align: right;\">\n",
       "      <th></th>\n",
       "      <th>annual % GDP growth</th>\n",
       "    </tr>\n",
       "    <tr>\n",
       "      <th>date</th>\n",
       "      <th></th>\n",
       "    </tr>\n",
       "  </thead>\n",
       "  <tbody>\n",
       "    <tr>\n",
       "      <th>2017</th>\n",
       "      <td>NaN</td>\n",
       "    </tr>\n",
       "    <tr>\n",
       "      <th>2016</th>\n",
       "      <td>0.784618</td>\n",
       "    </tr>\n",
       "    <tr>\n",
       "      <th>2015</th>\n",
       "      <td>2.113705</td>\n",
       "    </tr>\n",
       "    <tr>\n",
       "      <th>2014</th>\n",
       "      <td>1.612538</td>\n",
       "    </tr>\n",
       "    <tr>\n",
       "      <th>2013</th>\n",
       "      <td>0.967811</td>\n",
       "    </tr>\n",
       "  </tbody>\n",
       "</table>\n",
       "</div>"
      ],
      "text/plain": [
       "      annual % GDP growth\n",
       "date                     \n",
       "2017                  NaN\n",
       "2016             0.784618\n",
       "2015             2.113705\n",
       "2014             1.612538\n",
       "2013             0.967811"
      ]
     },
     "execution_count": 159,
     "metadata": {},
     "output_type": "execute_result"
    }
   ],
   "source": [
    "GDP_growth = wbdata.get_dataframe(indicator1, country=country, convert_date=False)\n",
    "GDP_growth.head()"
   ]
  },
  {
   "cell_type": "code",
   "execution_count": 172,
   "metadata": {},
   "outputs": [
    {
     "name": "stdout",
     "output_type": "stream",
     "text": [
      "SP.URB.GROW   \tUrban population growth (annual %)\n",
      "SP.RUR.TOTL.ZG\tRural population growth (annual %)\n",
      "SP.POP.GROW   \tPopulation growth (annual %)\n"
     ]
    }
   ],
   "source": [
    "wbdata.search_indicators('population growth')"
   ]
  },
  {
   "cell_type": "code",
   "execution_count": 182,
   "metadata": {},
   "outputs": [],
   "source": [
    "# get data for net immigration and total population  \n",
    "indicator2 = {'SM.POP.NETM': 'Net Migration','SP.POP.TOTL': 'Population'}"
   ]
  },
  {
   "cell_type": "code",
   "execution_count": 244,
   "metadata": {},
   "outputs": [],
   "source": [
    "migration = wbdata.get_dataframe(indicator2, country=country, convert_date=False)"
   ]
  },
  {
   "cell_type": "code",
   "execution_count": 246,
   "metadata": {},
   "outputs": [
    {
     "data": {
      "text/html": [
       "<div>\n",
       "<style>\n",
       "    .dataframe thead tr:only-child th {\n",
       "        text-align: right;\n",
       "    }\n",
       "\n",
       "    .dataframe thead th {\n",
       "        text-align: left;\n",
       "    }\n",
       "\n",
       "    .dataframe tbody tr th {\n",
       "        vertical-align: top;\n",
       "    }\n",
       "</style>\n",
       "<table border=\"1\" class=\"dataframe\">\n",
       "  <thead>\n",
       "    <tr style=\"text-align: right;\">\n",
       "      <th></th>\n",
       "      <th>Net Migration</th>\n",
       "      <th>Population</th>\n",
       "    </tr>\n",
       "    <tr>\n",
       "      <th>date</th>\n",
       "      <th></th>\n",
       "      <th></th>\n",
       "    </tr>\n",
       "  </thead>\n",
       "  <tbody>\n",
       "    <tr>\n",
       "      <th>2017</th>\n",
       "      <td>4500000.0</td>\n",
       "      <td>323127513.0</td>\n",
       "    </tr>\n",
       "    <tr>\n",
       "      <th>2016</th>\n",
       "      <td>4500000.0</td>\n",
       "      <td>323127513.0</td>\n",
       "    </tr>\n",
       "    <tr>\n",
       "      <th>2015</th>\n",
       "      <td>4500000.0</td>\n",
       "      <td>320896618.0</td>\n",
       "    </tr>\n",
       "    <tr>\n",
       "      <th>2014</th>\n",
       "      <td>4500000.0</td>\n",
       "      <td>318563456.0</td>\n",
       "    </tr>\n",
       "    <tr>\n",
       "      <th>2013</th>\n",
       "      <td>4500000.0</td>\n",
       "      <td>316204908.0</td>\n",
       "    </tr>\n",
       "    <tr>\n",
       "      <th>2012</th>\n",
       "      <td>4500000.0</td>\n",
       "      <td>313998379.0</td>\n",
       "    </tr>\n",
       "  </tbody>\n",
       "</table>\n",
       "</div>"
      ],
      "text/plain": [
       "      Net Migration   Population\n",
       "date                            \n",
       "2017      4500000.0  323127513.0\n",
       "2016      4500000.0  323127513.0\n",
       "2015      4500000.0  320896618.0\n",
       "2014      4500000.0  318563456.0\n",
       "2013      4500000.0  316204908.0\n",
       "2012      4500000.0  313998379.0"
      ]
     },
     "execution_count": 246,
     "metadata": {},
     "output_type": "execute_result"
    }
   ],
   "source": [
    "# replace the NaN value with the preceding valid value \n",
    "Net_immigration= migration.fillna(method='bfill')\n",
    "Net_immigration.head(6)"
   ]
  },
  {
   "cell_type": "code",
   "execution_count": 247,
   "metadata": {},
   "outputs": [
    {
     "data": {
      "text/html": [
       "<div>\n",
       "<style>\n",
       "    .dataframe thead tr:only-child th {\n",
       "        text-align: right;\n",
       "    }\n",
       "\n",
       "    .dataframe thead th {\n",
       "        text-align: left;\n",
       "    }\n",
       "\n",
       "    .dataframe tbody tr th {\n",
       "        vertical-align: top;\n",
       "    }\n",
       "</style>\n",
       "<table border=\"1\" class=\"dataframe\">\n",
       "  <thead>\n",
       "    <tr style=\"text-align: right;\">\n",
       "      <th></th>\n",
       "      <th>Net Migration</th>\n",
       "      <th>Population</th>\n",
       "      <th>Migration Pct</th>\n",
       "    </tr>\n",
       "    <tr>\n",
       "      <th>date</th>\n",
       "      <th></th>\n",
       "      <th></th>\n",
       "      <th></th>\n",
       "    </tr>\n",
       "  </thead>\n",
       "  <tbody>\n",
       "    <tr>\n",
       "      <th>2017</th>\n",
       "      <td>4500000.0</td>\n",
       "      <td>323127513.0</td>\n",
       "      <td>1.392639</td>\n",
       "    </tr>\n",
       "    <tr>\n",
       "      <th>2016</th>\n",
       "      <td>4500000.0</td>\n",
       "      <td>323127513.0</td>\n",
       "      <td>1.392639</td>\n",
       "    </tr>\n",
       "    <tr>\n",
       "      <th>2015</th>\n",
       "      <td>4500000.0</td>\n",
       "      <td>320896618.0</td>\n",
       "      <td>1.402321</td>\n",
       "    </tr>\n",
       "    <tr>\n",
       "      <th>2014</th>\n",
       "      <td>4500000.0</td>\n",
       "      <td>318563456.0</td>\n",
       "      <td>1.412591</td>\n",
       "    </tr>\n",
       "    <tr>\n",
       "      <th>2013</th>\n",
       "      <td>4500000.0</td>\n",
       "      <td>316204908.0</td>\n",
       "      <td>1.423128</td>\n",
       "    </tr>\n",
       "    <tr>\n",
       "      <th>2012</th>\n",
       "      <td>4500000.0</td>\n",
       "      <td>313998379.0</td>\n",
       "      <td>1.433128</td>\n",
       "    </tr>\n",
       "  </tbody>\n",
       "</table>\n",
       "</div>"
      ],
      "text/plain": [
       "      Net Migration   Population  Migration Pct\n",
       "date                                           \n",
       "2017      4500000.0  323127513.0       1.392639\n",
       "2016      4500000.0  323127513.0       1.392639\n",
       "2015      4500000.0  320896618.0       1.402321\n",
       "2014      4500000.0  318563456.0       1.412591\n",
       "2013      4500000.0  316204908.0       1.423128\n",
       "2012      4500000.0  313998379.0       1.433128"
      ]
     },
     "execution_count": 247,
     "metadata": {},
     "output_type": "execute_result"
    }
   ],
   "source": [
    "# calculate immigration percentage\n",
    "Net_immigration['Migration Pct'] = (Net_immigration['Net Migration']/Net_immigration['Population'])*100\n",
    "Net_immigration.head(6)"
   ]
  },
  {
   "cell_type": "markdown",
   "metadata": {},
   "source": [
    "### Net migration data is collected every 5 years and has a lot NaN data. So I replaced NaN data with the preceding valid value that it has "
   ]
  },
  {
   "cell_type": "code",
   "execution_count": 109,
   "metadata": {},
   "outputs": [
    {
     "name": "stdout",
     "output_type": "stream",
     "text": [
      "GFDD.OM.02\tStock market return (%, year-on-year)\n"
     ]
    }
   ],
   "source": [
    "wbdata.search_indicators('Stock market return')"
   ]
  },
  {
   "cell_type": "code",
   "execution_count": 132,
   "metadata": {},
   "outputs": [
    {
     "data": {
      "text/html": [
       "<div>\n",
       "<style>\n",
       "    .dataframe thead tr:only-child th {\n",
       "        text-align: right;\n",
       "    }\n",
       "\n",
       "    .dataframe thead th {\n",
       "        text-align: left;\n",
       "    }\n",
       "\n",
       "    .dataframe tbody tr th {\n",
       "        vertical-align: top;\n",
       "    }\n",
       "</style>\n",
       "<table border=\"1\" class=\"dataframe\">\n",
       "  <thead>\n",
       "    <tr style=\"text-align: right;\">\n",
       "      <th></th>\n",
       "      <th>Stock Return %</th>\n",
       "    </tr>\n",
       "    <tr>\n",
       "      <th>date</th>\n",
       "      <th></th>\n",
       "    </tr>\n",
       "  </thead>\n",
       "  <tbody>\n",
       "    <tr>\n",
       "      <th>2015</th>\n",
       "      <td>6.71</td>\n",
       "    </tr>\n",
       "    <tr>\n",
       "      <th>2014</th>\n",
       "      <td>17.49</td>\n",
       "    </tr>\n",
       "    <tr>\n",
       "      <th>2013</th>\n",
       "      <td>19.17</td>\n",
       "    </tr>\n",
       "    <tr>\n",
       "      <th>2012</th>\n",
       "      <td>8.81</td>\n",
       "    </tr>\n",
       "    <tr>\n",
       "      <th>2011</th>\n",
       "      <td>11.20</td>\n",
       "    </tr>\n",
       "  </tbody>\n",
       "</table>\n",
       "</div>"
      ],
      "text/plain": [
       "      Stock Return %\n",
       "date                \n",
       "2015            6.71\n",
       "2014           17.49\n",
       "2013           19.17\n",
       "2012            8.81\n",
       "2011           11.20"
      ]
     },
     "execution_count": 132,
     "metadata": {},
     "output_type": "execute_result"
    }
   ],
   "source": [
    "indicator3= {'GFDD.OM.02': 'Stock Return %'}\n",
    "Stock_return = wbdata.get_dataframe(indicator3, country=country, convert_date=False)\n",
    "Stock_return.head()"
   ]
  },
  {
   "cell_type": "code",
   "execution_count": 250,
   "metadata": {
    "scrolled": true
   },
   "outputs": [
    {
     "data": {
      "text/html": [
       "<div>\n",
       "<style>\n",
       "    .dataframe thead tr:only-child th {\n",
       "        text-align: right;\n",
       "    }\n",
       "\n",
       "    .dataframe thead th {\n",
       "        text-align: left;\n",
       "    }\n",
       "\n",
       "    .dataframe tbody tr th {\n",
       "        vertical-align: top;\n",
       "    }\n",
       "</style>\n",
       "<table border=\"1\" class=\"dataframe\">\n",
       "  <thead>\n",
       "    <tr style=\"text-align: right;\">\n",
       "      <th></th>\n",
       "      <th>annual % GDP growth</th>\n",
       "      <th>Net Migration</th>\n",
       "      <th>Population</th>\n",
       "      <th>Migration Pct</th>\n",
       "      <th>Stock Return %</th>\n",
       "    </tr>\n",
       "  </thead>\n",
       "  <tbody>\n",
       "    <tr>\n",
       "      <th>1960</th>\n",
       "      <td>NaN</td>\n",
       "      <td>NaN</td>\n",
       "      <td>180671000.0</td>\n",
       "      <td>NaN</td>\n",
       "      <td>NaN</td>\n",
       "    </tr>\n",
       "    <tr>\n",
       "      <th>1961</th>\n",
       "      <td>0.618121</td>\n",
       "      <td>NaN</td>\n",
       "      <td>183691000.0</td>\n",
       "      <td>NaN</td>\n",
       "      <td>18.67</td>\n",
       "    </tr>\n",
       "    <tr>\n",
       "      <th>1962</th>\n",
       "      <td>4.480669</td>\n",
       "      <td>1829274.0</td>\n",
       "      <td>186538000.0</td>\n",
       "      <td>0.980644</td>\n",
       "      <td>-5.96</td>\n",
       "    </tr>\n",
       "    <tr>\n",
       "      <th>1963</th>\n",
       "      <td>2.908272</td>\n",
       "      <td>1829274.0</td>\n",
       "      <td>189242000.0</td>\n",
       "      <td>0.966632</td>\n",
       "      <td>12.10</td>\n",
       "    </tr>\n",
       "    <tr>\n",
       "      <th>1964</th>\n",
       "      <td>4.340549</td>\n",
       "      <td>1829274.0</td>\n",
       "      <td>191889000.0</td>\n",
       "      <td>0.953298</td>\n",
       "      <td>16.48</td>\n",
       "    </tr>\n",
       "  </tbody>\n",
       "</table>\n",
       "</div>"
      ],
      "text/plain": [
       "      annual % GDP growth  Net Migration   Population  Migration Pct  \\\n",
       "1960                  NaN            NaN  180671000.0            NaN   \n",
       "1961             0.618121            NaN  183691000.0            NaN   \n",
       "1962             4.480669      1829274.0  186538000.0       0.980644   \n",
       "1963             2.908272      1829274.0  189242000.0       0.966632   \n",
       "1964             4.340549      1829274.0  191889000.0       0.953298   \n",
       "\n",
       "      Stock Return %  \n",
       "1960             NaN  \n",
       "1961           18.67  \n",
       "1962           -5.96  \n",
       "1963           12.10  \n",
       "1964           16.48  "
      ]
     },
     "execution_count": 250,
     "metadata": {},
     "output_type": "execute_result"
    }
   ],
   "source": [
    "# merge dataframes together\n",
    "df =pd.concat([GDP_growth,Net_immigration,Stock_return], axis=1)\n",
    "df.head()"
   ]
  },
  {
   "cell_type": "code",
   "execution_count": 252,
   "metadata": {},
   "outputs": [
    {
     "data": {
      "text/plain": [
       "annual % GDP growth    0\n",
       "Net Migration          0\n",
       "Population             0\n",
       "Migration Pct          0\n",
       "Stock Return %         0\n",
       "dtype: int64"
      ]
     },
     "execution_count": 252,
     "metadata": {},
     "output_type": "execute_result"
    }
   ],
   "source": [
    "# drop all the rows that have NaN value \n",
    "df1=df.dropna(axis=0)\n",
    "df1.isnull().sum()"
   ]
  },
  {
   "cell_type": "code",
   "execution_count": 258,
   "metadata": {},
   "outputs": [
    {
     "data": {
      "text/html": [
       "<div>\n",
       "<style>\n",
       "    .dataframe thead tr:only-child th {\n",
       "        text-align: right;\n",
       "    }\n",
       "\n",
       "    .dataframe thead th {\n",
       "        text-align: left;\n",
       "    }\n",
       "\n",
       "    .dataframe tbody tr th {\n",
       "        vertical-align: top;\n",
       "    }\n",
       "</style>\n",
       "<table border=\"1\" class=\"dataframe\">\n",
       "  <thead>\n",
       "    <tr style=\"text-align: right;\">\n",
       "      <th></th>\n",
       "      <th>annual % GDP growth</th>\n",
       "      <th>Net Migration</th>\n",
       "      <th>Population</th>\n",
       "      <th>Migration Pct</th>\n",
       "      <th>Stock Return %</th>\n",
       "    </tr>\n",
       "  </thead>\n",
       "  <tbody>\n",
       "    <tr>\n",
       "      <th>annual % GDP growth</th>\n",
       "      <td>1.000000</td>\n",
       "      <td>-0.153572</td>\n",
       "      <td>-0.360614</td>\n",
       "      <td>-0.070025</td>\n",
       "      <td>0.335633</td>\n",
       "    </tr>\n",
       "    <tr>\n",
       "      <th>Net Migration</th>\n",
       "      <td>-0.153572</td>\n",
       "      <td>1.000000</td>\n",
       "      <td>0.707744</td>\n",
       "      <td>0.965778</td>\n",
       "      <td>0.133833</td>\n",
       "    </tr>\n",
       "    <tr>\n",
       "      <th>Population</th>\n",
       "      <td>-0.360614</td>\n",
       "      <td>0.707744</td>\n",
       "      <td>1.000000</td>\n",
       "      <td>0.514370</td>\n",
       "      <td>0.083849</td>\n",
       "    </tr>\n",
       "    <tr>\n",
       "      <th>Migration Pct</th>\n",
       "      <td>-0.070025</td>\n",
       "      <td>0.965778</td>\n",
       "      <td>0.514370</td>\n",
       "      <td>1.000000</td>\n",
       "      <td>0.142323</td>\n",
       "    </tr>\n",
       "    <tr>\n",
       "      <th>Stock Return %</th>\n",
       "      <td>0.335633</td>\n",
       "      <td>0.133833</td>\n",
       "      <td>0.083849</td>\n",
       "      <td>0.142323</td>\n",
       "      <td>1.000000</td>\n",
       "    </tr>\n",
       "  </tbody>\n",
       "</table>\n",
       "</div>"
      ],
      "text/plain": [
       "                     annual % GDP growth  Net Migration  Population  \\\n",
       "annual % GDP growth             1.000000      -0.153572   -0.360614   \n",
       "Net Migration                  -0.153572       1.000000    0.707744   \n",
       "Population                     -0.360614       0.707744    1.000000   \n",
       "Migration Pct                  -0.070025       0.965778    0.514370   \n",
       "Stock Return %                  0.335633       0.133833    0.083849   \n",
       "\n",
       "                     Migration Pct  Stock Return %  \n",
       "annual % GDP growth      -0.070025        0.335633  \n",
       "Net Migration             0.965778        0.133833  \n",
       "Population                0.514370        0.083849  \n",
       "Migration Pct             1.000000        0.142323  \n",
       "Stock Return %            0.142323        1.000000  "
      ]
     },
     "execution_count": 258,
     "metadata": {},
     "output_type": "execute_result"
    }
   ],
   "source": [
    "# calculation the correlation between them \n",
    "df1.corr()"
   ]
  },
  {
   "cell_type": "code",
   "execution_count": 259,
   "metadata": {},
   "outputs": [],
   "source": [
    "corr = df1[[\"annual % GDP growth\",\"Migration Pct\",\"Stock Return %\"]].corr()"
   ]
  },
  {
   "cell_type": "code",
   "execution_count": 260,
   "metadata": {},
   "outputs": [
    {
     "data": {
      "text/plain": [
       "<matplotlib.axes._subplots.AxesSubplot at 0x1a198652b0>"
      ]
     },
     "execution_count": 260,
     "metadata": {},
     "output_type": "execute_result"
    },
    {
     "data": {
      "image/png": "[encoded data removed]",
      "text/plain": [
       "<matplotlib.figure.Figure at 0x1c1b15d3c8>"
      ]
     },
     "metadata": {},
     "output_type": "display_data"
    }
   ],
   "source": [
    "sns.heatmap(corr, cmap='Blues')"
   ]
  },
  {
   "cell_type": "markdown",
   "metadata": {},
   "source": [
    "# Insights\n",
    "* Stock market is positively correlated with GDP growth, but immigration is nagetively correlated with GDP grwoth.\n",
    "* Although politicians should consider the negative relationship between immigrants and GDP growth, the degree of that is not that strong \n",
    "* Stock market has a much stronger positive relationship with GDP growth"
   ]
  },
  {
   "cell_type": "markdown",
   "metadata": {},
   "source": [
    "# Reference\n",
    "\n",
    "http://wbdata.readthedocs.io/en/latest/index.html\n",
    "\n",
    "https://pandas.pydata.org/pandas-docs/stable/generated/pandas.concat.html\n",
    "\n",
    "https://seaborn.pydata.org/generated/seaborn.heatmap.html\n",
    "\n",
    "https://pandas.pydata.org/pandas-docs/stable/generated/pandas.DataFrame.dropna.html"
   ]
  },
  {
   "cell_type": "code",
   "execution_count": null,
   "metadata": {
    "collapsed": true
   },
   "outputs": [],
   "source": []
  }
 ],
 "metadata": {
  "kernelspec": {
   "display_name": "Python 3",
   "language": "python",
   "name": "python3"
  },
  "language_info": {
   "codemirror_mode": {
    "name": "ipython",
    "version": 3
   },
   "file_extension": ".py",
   "mimetype": "text/x-python",
   "name": "python",
   "nbconvert_exporter": "python",
   "pygments_lexer": "ipython3",
   "version": "3.6.3"
  },
  "toc": {
   "nav_menu": {},
   "number_sections": true,
   "sideBar": true,
   "skip_h1_title": false,
   "toc_cell": false,
   "toc_position": {},
   "toc_section_display": "block",
   "toc_window_display": false
  },
  "varInspector": {
   "cols": {
    "lenName": 16,
    "lenType": 16,
    "lenVar": 40
   },
   "kernels_config": {
    "python": {
     "delete_cmd_postfix": "",
     "delete_cmd_prefix": "del ",
     "library": "var_list.py",
     "varRefreshCmd": "print(var_dic_list())"
    },
    "r": {
     "delete_cmd_postfix": ") ",
     "delete_cmd_prefix": "rm(",
     "library": "var_list.r",
     "varRefreshCmd": "cat(var_dic_list()) "
    }
   },
   "types_to_exclude": [
    "module",
    "function",
    "builtin_function_or_method",
    "instance",
    "_Feature"
   ],
   "window_display": false
  }
 },
 "nbformat": 4,
 "nbformat_minor": 2
}
